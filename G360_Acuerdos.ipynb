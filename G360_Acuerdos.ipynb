{
 "cells": [
  {
   "cell_type": "markdown",
   "id": "e91d4ff9-23d9-469b-bf44-49d8e4e8f53d",
   "metadata": {},
   "source": [
    "### Zapatas"
   ]
  },
  {
   "cell_type": "markdown",
   "id": "570e22a7-9a83-498d-80be-3168bea377bb",
   "metadata": {},
   "source": [
    "Recubrimiento del pedestal:   dejar input por defecto = 5"
   ]
  },
  {
   "cell_type": "markdown",
   "id": "eeebf821-e935-4c8c-a0e8-5828b39f1a6a",
   "metadata": {
    "editable": true,
    "slideshow": {
     "slide_type": ""
    },
    "tags": []
   },
   "source": [
    "Dimensiones:\n",
    "* Porf desplante: entre 2 y 4, @.2 y x.5\n",
    "* Ancho: entre 1.5 y Sep libre entre patas > 1, @.1"
   ]
  },
  {
   "cell_type": "markdown",
   "id": "57ef7e72-d5db-4161-8206-daed60c073ec",
   "metadata": {},
   "source": [
    "Preguntar si los conos se solapan; then: ingresar valor"
   ]
  },
  {
   "cell_type": "markdown",
   "id": "342fcdf9-ceed-45c8-b26a-318cf8a6dd57",
   "metadata": {},
   "source": [
    "Asentamiento: 1 pulgada"
   ]
  },
  {
   "cell_type": "markdown",
   "id": "6f27e48c-355b-4934-ab92-2d26b8f426f2",
   "metadata": {
    "editable": true,
    "slideshow": {
     "slide_type": ""
    },
    "tags": []
   },
   "source": [
    "Cono de arranque desde la parte inferior"
   ]
  },
  {
   "cell_type": "markdown",
   "id": "5a302b33-57af-40b7-8b5c-531ccc2866f4",
   "metadata": {},
   "source": [
    "Sin factor de holgura"
   ]
  },
  {
   "cell_type": "markdown",
   "id": "65bb0ab5-d962-421b-b84a-335c8ffaf48c",
   "metadata": {},
   "source": [
    "Barras mínimas según el excel: N4, N3 y 16 y (buscar el chile)"
   ]
  },
  {
   "cell_type": "markdown",
   "id": "c8ff56a8-73d6-4540-8a4d-4508414a6415",
   "metadata": {},
   "source": [
    "Separación entre barras, al mínimo permitido, y máx en 30 cm\n",
    "Definir warning para que la separación entre barras establezca el agregado maximo (agg maximo de 6.5 cm)"
   ]
  },
  {
   "cell_type": "markdown",
   "id": "ffb37ec5-a86b-4581-9c68-0eddef54530f",
   "metadata": {},
   "source": []
  },
  {
   "cell_type": "markdown",
   "id": "f622defd-87ab-4ba1-9522-956cfdb717ec",
   "metadata": {},
   "source": []
  },
  {
   "cell_type": "markdown",
   "id": "08669f27-9f27-4fd9-9930-3127ab121870",
   "metadata": {},
   "source": []
  }
 ],
 "metadata": {
  "kernelspec": {
   "display_name": "Python 3 (ipykernel)",
   "language": "python",
   "name": "python3"
  },
  "language_info": {
   "codemirror_mode": {
    "name": "ipython",
    "version": 3
   },
   "file_extension": ".py",
   "mimetype": "text/x-python",
   "name": "python",
   "nbconvert_exporter": "python",
   "pygments_lexer": "ipython3",
   "version": "3.12.7"
  }
 },
 "nbformat": 4,
 "nbformat_minor": 5
}
