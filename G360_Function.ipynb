{
 "cells": [
  {
   "cell_type": "code",
   "execution_count": 4,
   "id": "3bc56aef-be34-4b34-b6ea-cf782e9b6ce9",
   "metadata": {},
   "outputs": [],
   "source": [
    "import math\n",
    "import numpy as np"
   ]
  },
  {
   "cell_type": "code",
   "execution_count": 6,
   "id": "ecd5b0ac-a779-46fc-a24c-3fc571c674f0",
   "metadata": {},
   "outputs": [],
   "source": [
    "# FUNCIÓN DE INCREMENTO PARA VARIABLES DE CIMENTACIÓN\n",
    "def incremento(vrbl, incrmnt):\n",
    "    decimal = vrbl%1\n",
    "    entero = vrbl//1\n",
    "\n",
    "    #Generic (0.05, 0.1, 0.5)\n",
    "    if ( (1/incrmnt)%2 == 0 ):\n",
    "        vrbl += incrmnt\n",
    "\n",
    "    # Symmetric by 0.5 (0.2)\n",
    "    elif ( (1/incrmnt)%1 == 0 ):\n",
    "        if (0 <= decimal < 0.5) & (decimal + incrmnt > 0.5):\n",
    "            vrbl = entero + 0.5\n",
    "        elif (decimal == 0.5):\n",
    "            vrbl += incrmnt/2\n",
    "        else:\n",
    "            vrbl += incrmnt\n",
    "            \n",
    "    # error output (0.15, 0.3)         \n",
    "    else:\n",
    "        print('no itera')\n",
    "    \n",
    "    return vrbl   "
   ]
  },
  {
   "cell_type": "code",
   "execution_count": 8,
   "id": "4df1bf1b-c16f-404e-8487-f8169ce5562c",
   "metadata": {
    "editable": true,
    "slideshow": {
     "slide_type": ""
    },
    "tags": []
   },
   "outputs": [],
   "source": [
    "# CALCULO DE VOLUMEN PARA PIRAMIDE TRUNCADA\n",
    "def troncopiramidal(area_inf, area_sup, altura):\n",
    "    volumen = altura / 3 * (area_inf + area_sup + math.sqrt(area_inf * area_sup))\n",
    "    return volumen"
   ]
  },
  {
   "cell_type": "code",
   "execution_count": 10,
   "id": "1c94f32f-6c2d-4dc5-96a9-14c3f3dac902",
   "metadata": {
    "editable": true,
    "slideshow": {
     "slide_type": ""
    },
    "tags": []
   },
   "outputs": [],
   "source": [
    "# REDONDEO EN CANTIDAD DE DECIMALES\n",
    "def round_up(number, decimals):\n",
    "    factor = 10 ** decimals\n",
    "    return math.ceil(number * factor) / factor\n",
    "\n",
    "def round_down(number, decimals):\n",
    "    r_r = round_up(number, decimals) - 10**-decimals\n",
    "    r_r_plus_add = r_r + 10**-decimals\n",
    "    return r_r_plus_add if (r_r_plus_add == number) else r_r"
   ]
  },
  {
   "cell_type": "code",
   "execution_count": 12,
   "id": "885cff99-1878-466a-90e3-fec521bcc5e0",
   "metadata": {
    "editable": true,
    "slideshow": {
     "slide_type": ""
    },
    "tags": []
   },
   "outputs": [],
   "source": [
    "#REDONDEO EN MULTIPLOS\n",
    "def mround_up(x, multiple):\n",
    "    return math.ceil(x / multiple) * multiple\n",
    "\n",
    "def mround_down(x, multiple):\n",
    "    r_r = mround_up(x, multiple) - multiple\n",
    "    return r_r + multiple if math.isclose(x%multiple, multiple) else r_r"
   ]
  },
  {
   "cell_type": "code",
   "execution_count": 14,
   "id": "d4d4ef22-d906-408b-99ee-e90ba09ddabd",
   "metadata": {},
   "outputs": [],
   "source": [
    "# FUNCIÓN DE PROPORCIÓN PARA TRIANGULOS SEMEJANTES\n",
    "def proporcion(X,Y, y):\n",
    "    # X/Y == x/y\n",
    "    return y * X/Y"
   ]
  },
  {
   "cell_type": "code",
   "execution_count": 13,
   "id": "43717555-5e5d-4a0f-a387-6ceb704a7d77",
   "metadata": {},
   "outputs": [],
   "source": [
    "#ESTA FUNCIÓN RETORNA EL VALOR ABSOLUTO DE LAS FUERZAS CORTANTES DE LOS VECTORES DE LA FORMA [Fv, Fx, Fy] \n",
    "def abs_vectores(matrix):\n",
    "    Copia = matrix.copy()\n",
    "    len_i = len(Copia)\n",
    "    len_j = len(Copia[0])\n",
    "    \n",
    "    for i in range(len_i):\n",
    "        for j in range(1, len_j):\n",
    "            Copia[i][j] = abs(Copia[i][j])\n",
    "    return Copia"
   ]
  },
  {
   "cell_type": "code",
   "execution_count": 30,
   "id": "91a284f8-8311-4ec0-aa6e-2eada28fe227",
   "metadata": {},
   "outputs": [],
   "source": [
    "# DEVUELVE UNA MATRIX CON \"1\" SI LA CARGA VERTICAL ES A COMPRESIÓN O TRACCIÓN\n",
    "def casos_traccion(np_matrix):\n",
    "    Lista = [ np.array([0,0,0]) if (i[0] <= 0) else np.array([1,0,0]) for i in np.array(np_matrix) ]\n",
    "    return np.array(Lista)\n",
    "\n",
    "def casos_compresion(np_matrix):\n",
    "    Lista = [ np.array([0,0,0]) if (i[0] > 0) else np.array([1,0,0]) for i in np.array(np_matrix) ]\n",
    "    return np.array(Lista)"
   ]
  },
  {
   "cell_type": "code",
   "execution_count": 1,
   "id": "01eef49c-3e68-4fa3-a8c3-900cc5eb8b64",
   "metadata": {},
   "outputs": [],
   "source": [
    "def min_(lista):\n",
    "    lista_numerica = [i for i in lista if isinstance(i, (float, int))]\n",
    "    return min(lista_numerica)\n",
    "\n",
    "def max_(lista):\n",
    "    lista_numerica = [i for i in lista if isinstance(i, (float, int))]\n",
    "    return max(lista_numerica)"
   ]
  },
  {
   "cell_type": "code",
   "execution_count": null,
   "id": "52a6ce97-967b-4d63-9faf-b1bb1e4c93c9",
   "metadata": {},
   "outputs": [],
   "source": [
    "def empuje_pasivo(q1, q2, Area, kp):\n",
    "    return 1/2 * (q1 + q2) * Area * kp"
   ]
  },
  {
   "cell_type": "code",
   "execution_count": null,
   "id": "939ab6eb-4b44-4839-a24b-a9146fddff5b",
   "metadata": {},
   "outputs": [],
   "source": []
  }
 ],
 "metadata": {
  "kernelspec": {
   "display_name": "Python [conda env:base] *",
   "language": "python",
   "name": "conda-base-py"
  },
  "language_info": {
   "codemirror_mode": {
    "name": "ipython",
    "version": 3
   },
   "file_extension": ".py",
   "mimetype": "text/x-python",
   "name": "python",
   "nbconvert_exporter": "python",
   "pygments_lexer": "ipython3",
   "version": "3.12.7"
  }
 },
 "nbformat": 4,
 "nbformat_minor": 5
}
