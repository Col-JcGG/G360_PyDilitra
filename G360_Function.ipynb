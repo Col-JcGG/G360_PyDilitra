{
 "cells": [
  {
   "cell_type": "code",
   "execution_count": 4,
   "id": "3bc56aef-be34-4b34-b6ea-cf782e9b6ce9",
   "metadata": {},
   "outputs": [],
   "source": [
    "import math"
   ]
  },
  {
   "cell_type": "code",
   "execution_count": 84,
   "id": "ecd5b0ac-a779-46fc-a24c-3fc571c674f0",
   "metadata": {},
   "outputs": [],
   "source": [
    "# Incremento de variable\n",
    "def incremento(vrbl, incrmnt):\n",
    "    decimal = vrbl%1\n",
    "    entero = vrbl//1\n",
    "\n",
    "    #Generic (0.05, 0.1, 0.5)\n",
    "    if ( (1/incrmnt)%2 == 0 ):\n",
    "        vrbl += incrmnt\n",
    "\n",
    "    # Symmetric by 0.5 (0.2)\n",
    "    elif ( (1/incrmnt)%1 == 0 ):\n",
    "        if (0 <= decimal < 0.5) & (decimal + incrmnt > 0.5):\n",
    "            vrbl = entero + 0.5\n",
    "        elif (decimal == 0.5):\n",
    "            vrbl += incrmnt/2\n",
    "        else:\n",
    "            vrbl += incrmnt\n",
    "            \n",
    "    # error output (0.15, 0.3)         \n",
    "    else:\n",
    "        print('no itera')\n",
    "    \n",
    "    return vrbl   "
   ]
  },
  {
   "cell_type": "code",
   "execution_count": 85,
   "id": "4df1bf1b-c16f-404e-8487-f8169ce5562c",
   "metadata": {
    "editable": true,
    "slideshow": {
     "slide_type": ""
    },
    "tags": []
   },
   "outputs": [],
   "source": [
    "def troncopiramidal(area_inf, area_sup, altura):\n",
    "    volumen = altura / 3 * (area_inf + area_sup + math.sqrt(area_inf * area_sup))\n",
    "    return volumen"
   ]
  },
  {
   "cell_type": "code",
   "execution_count": 86,
   "id": "1c94f32f-6c2d-4dc5-96a9-14c3f3dac902",
   "metadata": {
    "editable": true,
    "slideshow": {
     "slide_type": ""
    },
    "tags": []
   },
   "outputs": [],
   "source": [
    "def round_up(number, decimals):\n",
    "    factor = 10 ** decimals\n",
    "    return math.ceil(number * factor) / factor\n",
    "\n",
    "def round_down(number, decimals):\n",
    "    r_r = round_up(number, decimals) - 10**-decimals\n",
    "    r_r_plus_add = r_r + 10**-decimals\n",
    "    return r_r_plus_add if (r_r_plus_add == number) else r_r"
   ]
  },
  {
   "cell_type": "code",
   "execution_count": 87,
   "id": "885cff99-1878-466a-90e3-fec521bcc5e0",
   "metadata": {
    "editable": true,
    "slideshow": {
     "slide_type": ""
    },
    "tags": []
   },
   "outputs": [],
   "source": [
    "def mround_up(x, multiple):\n",
    "    return math.ceil(x / multiple) * multiple\n",
    "\n",
    "def mround_down(x, multiple):\n",
    "    r_r = mround_up(x, multiple) - multiple\n",
    "    return r_r + multiple if math.isclose(x%multiple, multiple) else r_r"
   ]
  },
  {
   "cell_type": "code",
   "execution_count": 89,
   "id": "d4d4ef22-d906-408b-99ee-e90ba09ddabd",
   "metadata": {},
   "outputs": [],
   "source": [
    "def proporcion(X,Y, y):\n",
    "    # X/Y == x/y\n",
    "    return y * X/Y"
   ]
  },
  {
   "cell_type": "code",
   "execution_count": null,
   "id": "43717555-5e5d-4a0f-a387-6ceb704a7d77",
   "metadata": {},
   "outputs": [],
   "source": []
  }
 ],
 "metadata": {
  "kernelspec": {
   "display_name": "Python 3 (ipykernel)",
   "language": "python",
   "name": "python3"
  },
  "language_info": {
   "codemirror_mode": {
    "name": "ipython",
    "version": 3
   },
   "file_extension": ".py",
   "mimetype": "text/x-python",
   "name": "python",
   "nbconvert_exporter": "python",
   "pygments_lexer": "ipython3",
   "version": "3.12.7"
  }
 },
 "nbformat": 4,
 "nbformat_minor": 5
}
