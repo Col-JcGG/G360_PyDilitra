{
 "cells": [
  {
   "cell_type": "code",
   "execution_count": 16,
   "id": "3bc56aef-be34-4b34-b6ea-cf782e9b6ce9",
   "metadata": {},
   "outputs": [],
   "source": [
    "import math\n",
    "import numpy as np\n",
    "from collections.abc import Iterable"
   ]
  },
  {
   "cell_type": "code",
   "execution_count": 7,
   "id": "ecd5b0ac-a779-46fc-a24c-3fc571c674f0",
   "metadata": {
    "jupyter": {
     "source_hidden": true
    }
   },
   "outputs": [],
   "source": [
    "# FUNCIÓN DE INCREMENTO PARA VARIABLES DE CIMENTACIÓN\n",
    "def incremento(vrbl, incrmnt):\n",
    "    decimal = vrbl%1\n",
    "    entero = vrbl//1\n",
    "\n",
    "    #Generic (0.05, 0.1, 0.5)\n",
    "    if ( (1/incrmnt)%2 == 0 ):\n",
    "        vrbl += incrmnt\n",
    "\n",
    "    # Symmetric by 0.5 (0.2)\n",
    "    elif ( (1/incrmnt)%1 == 0 ):\n",
    "        if (0 <= decimal < 0.5) & (decimal + incrmnt > 0.5):\n",
    "            vrbl = entero + 0.5\n",
    "        elif (decimal == 0.5):\n",
    "            vrbl += incrmnt/2\n",
    "        else:\n",
    "            vrbl += incrmnt\n",
    "            \n",
    "    # error output (0.15, 0.3)         \n",
    "    else:\n",
    "        print('no itera')\n",
    "    \n",
    "    return vrbl   "
   ]
  },
  {
   "cell_type": "code",
   "execution_count": 8,
   "id": "4df1bf1b-c16f-404e-8487-f8169ce5562c",
   "metadata": {
    "editable": true,
    "jupyter": {
     "source_hidden": true
    },
    "slideshow": {
     "slide_type": ""
    },
    "tags": []
   },
   "outputs": [],
   "source": [
    "# CALCULO DE VOLUMEN PARA PIRAMIDE TRUNCADA\n",
    "def troncopiramidal(area_inf, area_sup, altura):\n",
    "    volumen = altura / 3 * (area_inf + area_sup + math.sqrt(area_inf * area_sup))\n",
    "    return volumen"
   ]
  },
  {
   "cell_type": "code",
   "execution_count": 10,
   "id": "1c94f32f-6c2d-4dc5-96a9-14c3f3dac902",
   "metadata": {
    "editable": true,
    "jupyter": {
     "source_hidden": true
    },
    "slideshow": {
     "slide_type": ""
    },
    "tags": []
   },
   "outputs": [],
   "source": [
    "# REDONDEO EN CANTIDAD DE DECIMALES\n",
    "def round_up(number, decimals):\n",
    "    factor = 10 ** decimals\n",
    "    return math.ceil(number * factor) / factor\n",
    "\n",
    "def round_down(number, decimals):\n",
    "    r_r = round_up(number, decimals) - 10**-decimals\n",
    "    r_r_plus_add = r_r + 10**-decimals\n",
    "    return r_r_plus_add if (r_r_plus_add == number) else r_r"
   ]
  },
  {
   "cell_type": "code",
   "execution_count": 12,
   "id": "885cff99-1878-466a-90e3-fec521bcc5e0",
   "metadata": {
    "editable": true,
    "jupyter": {
     "source_hidden": true
    },
    "slideshow": {
     "slide_type": ""
    },
    "tags": []
   },
   "outputs": [],
   "source": [
    "#REDONDEO EN MULTIPLOS\n",
    "def mround_up(x, multiple):\n",
    "    return math.ceil(x / multiple) * multiple\n",
    "\n",
    "def mround_down(x, multiple):\n",
    "    r_r = mround_up(x, multiple) - multiple\n",
    "    return r_r + multiple if math.isclose(x%multiple, multiple) else r_r"
   ]
  },
  {
   "cell_type": "code",
   "execution_count": 14,
   "id": "d4d4ef22-d906-408b-99ee-e90ba09ddabd",
   "metadata": {
    "jupyter": {
     "source_hidden": true
    }
   },
   "outputs": [],
   "source": [
    "# FUNCIÓN DE PROPORCIÓN PARA TRIANGULOS SEMEJANTES\n",
    "def proporcion(X,Y, y):\n",
    "    # X/Y == x/y\n",
    "    return y * X/Y"
   ]
  },
  {
   "cell_type": "code",
   "execution_count": 13,
   "id": "43717555-5e5d-4a0f-a387-6ceb704a7d77",
   "metadata": {
    "jupyter": {
     "source_hidden": true
    }
   },
   "outputs": [],
   "source": [
    "# ESTA FUNCIÓN RETORNA EL VALOR ABSOLUTO DE LAS FUERZAS CORTANTES DE LOS VECTORES DE LA FORMA [Fv, Fx, Fy] \n",
    "def abs_vectores(matrix):\n",
    "    Copia = matrix.copy()\n",
    "    len_i = len(Copia)\n",
    "    len_j = len(Copia[0])\n",
    "    \n",
    "    for i in range(len_i):\n",
    "        for j in range(1, len_j):\n",
    "            Copia[i][j] = abs(Copia[i][j])\n",
    "    return Copia"
   ]
  },
  {
   "cell_type": "code",
   "execution_count": 30,
   "id": "91a284f8-8311-4ec0-aa6e-2eada28fe227",
   "metadata": {
    "jupyter": {
     "source_hidden": true
    }
   },
   "outputs": [],
   "source": [
    "# DEVUELVE UNA MATRIX CON \"1\" SI LA CARGA VERTICAL ES A COMPRESIÓN O TRACCIÓN\n",
    "def casos_traccion(np_matrix):\n",
    "    Lista = [ np.array([0,0,0]) if (i[0] <= 0) else np.array([1,0,0]) for i in np.array(np_matrix) ]\n",
    "    return np.array(Lista)\n",
    "\n",
    "def casos_compresion(np_matrix):\n",
    "    Lista = [ np.array([0,0,0]) if (i[0] > 0) else np.array([1,0,0]) for i in np.array(np_matrix) ]\n",
    "    return np.array(Lista)"
   ]
  },
  {
   "cell_type": "code",
   "execution_count": 32,
   "id": "01eef49c-3e68-4fa3-a8c3-900cc5eb8b64",
   "metadata": {
    "jupyter": {
     "source_hidden": true
    }
   },
   "outputs": [],
   "source": [
    "# FUNCIÓN MAXIMOS Y MÍNIMOS QUE IGNORA CADENAS DE TEXTO\n",
    "def min_(obj):\n",
    "    _a = obj # OBJETO\n",
    "    _b = [] # LISTA A EVALUAR\n",
    "    while isinstance (_a[0] , Iterable):\n",
    "        for i in _a:\n",
    "            for j in i:\n",
    "                _b.append(j)\n",
    "        _a = _b\n",
    "        _b = []\n",
    "    _b_num = [i for i in _a if isinstance(i, (float, int))]\n",
    "    return min(_b_num)\n",
    "\n",
    "def max_(obj):\n",
    "    _a = obj # OBJETO\n",
    "    _b = [] # LISTA A EVALUAR\n",
    "    while isinstance (_a[0] , Iterable):\n",
    "        for i in _a:\n",
    "            for j in i:\n",
    "                _b.append(j)\n",
    "        _a = _b\n",
    "        _b = []\n",
    "    _b_num = [i for i in _a if isinstance(i, (float, int))]\n",
    "    return max(_b_num)"
   ]
  },
  {
   "cell_type": "code",
   "execution_count": null,
   "id": "52a6ce97-967b-4d63-9faf-b1bb1e4c93c9",
   "metadata": {
    "jupyter": {
     "source_hidden": true
    }
   },
   "outputs": [],
   "source": [
    "# CALCULO DE EMPUJO PASIVO\n",
    "def empuje_pasivo(q1, q2, Area, kp):\n",
    "    return 1/2 * (q1 + q2) * Area * kp"
   ]
  },
  {
   "cell_type": "code",
   "execution_count": null,
   "id": "44bb1589-7c32-42ae-b24c-cbdceafd1106",
   "metadata": {
    "jupyter": {
     "source_hidden": true
    }
   },
   "outputs": [],
   "source": [
    "# FUNCIÓN PARA VALORES DEFAULT EN LAS VARIABLES OPCIONALES\n",
    "def dict_default(funcion):\n",
    "    try:\n",
    "        _r = funcion()\n",
    "    except Exception:\n",
    "        _r = None\n",
    "    return _r"
   ]
  },
  {
   "cell_type": "code",
   "execution_count": null,
   "id": "d299c879-5636-48af-9709-8c5fcfaafda7",
   "metadata": {
    "jupyter": {
     "source_hidden": true
    }
   },
   "outputs": [],
   "source": [
    "# LONGITUD DE TEXTO EN DICCIONARIOS; PARA ALINEAMIENTO\n",
    "def len_values(diccionario):\n",
    "    _len_max = 0\n",
    "    for k,v in diccionario.items():\n",
    "        _len_max = len(v) if (len(v)>_len_max) else _len_max\n",
    "    return _len_max"
   ]
  },
  {
   "cell_type": "code",
   "execution_count": null,
   "id": "030fcaec-b8ee-4ac1-abeb-b37fd939d645",
   "metadata": {
    "jupyter": {
     "source_hidden": true
    }
   },
   "outputs": [],
   "source": [
    "# CONVERSIÓN DE MATRIZ EQUIVALENTE PARA CHILE CONSIDERANDO LA EXCENTRICIDAD\n",
    "def Fx_y_equivalencias(num_pata, vector, excentricidad, altura):\n",
    "    np.set_printoptions(suppress=True)\n",
    "    _m = []\n",
    "    #1\n",
    "    if num_pata == 1:\n",
    "        for i in vector:\n",
    "            _v = np.array([+ i.F_vert,\n",
    "                           + i.F_vert * excentricidad/altura + i.F_x_long, \n",
    "                           - i.F_vert * excentricidad/altura - i.F_y_transv ])\n",
    "            _m.append(_v)\n",
    "    #2\n",
    "    elif num_pata == 2:\n",
    "        for i in vector:\n",
    "            _v = np.array([+ i.F_vert,\n",
    "                           + i.F_vert * excentricidad/altura + i.F_x_long, \n",
    "                           + i.F_vert * excentricidad/altura - i.F_y_transv ])\n",
    "            _m.append(_v)\n",
    "    #3\n",
    "    elif num_pata == 3:\n",
    "        for i in vector:\n",
    "            _v = np.array([+ i.F_vert,\n",
    "                           - i.F_vert * excentricidad/altura + i.F_x_long, \n",
    "                           + i.F_vert * excentricidad/altura - i.F_y_transv ])\n",
    "            _m.append(_v)        \n",
    "    #4\n",
    "    elif num_pata == 4:\n",
    "        for i in vector:\n",
    "            _v = np.array([+ i.F_vert,\n",
    "                           - i.F_vert * excentricidad/altura + i.F_x_long, \n",
    "                           - i.F_vert * excentricidad/altura - i.F_y_transv ])\n",
    "            _m.append(_v)        \n",
    "    #0\n",
    "    else:\n",
    "        for i in vector:\n",
    "            _v = np.array([+ i.F_vert,\n",
    "                           + abs(i.F_vert) * excentricidad/altura + abs(i.F_x_long), \n",
    "                           + abs(i.F_vert) * excentricidad/altura + abs(i.F_y_transv) ])\n",
    "            _m.append(_v)    \n",
    "    return np.array(_m)\n",
    "\n",
    "def matriz_equivalente(altura, excentricidad, num_pata_c, num_pata_t, vector):\n",
    "    f_c = Fx_y_equivalencias(altura = altura, \n",
    "                       excentricidad = excentricidad, \n",
    "                       num_pata = num_pata_c, \n",
    "                       vector = vector)\n",
    "    f_t = Fx_y_equivalencias(altura = altura, \n",
    "                       excentricidad = excentricidad, \n",
    "                       num_pata = num_pata_t, \n",
    "                       vector = vector)\n",
    "    _mtrx = []\n",
    "    for i in range(4):\n",
    "        if vector[i].F_vert <= 0:\n",
    "            _mtrx.append(f_c[i])\n",
    "        else:\n",
    "            _mtrx.append(f_t[i])\n",
    "    _mtrx = FReaction(_mtrx)\n",
    "    return _mtrx"
   ]
  },
  {
   "cell_type": "code",
   "execution_count": null,
   "id": "5c604f75-18ac-4fd5-af30-51964b58beaa",
   "metadata": {
    "jupyter": {
     "source_hidden": true
    }
   },
   "outputs": [],
   "source": [
    "# FORMULAS Y TABLAS PARA MÉTODO MeyerhofAdams\n",
    "def m_MeyerhofAdams(_phi):\n",
    "        # f\t    m\n",
    "    m = {'20': 0.05,\n",
    "         '25': 0.10,\n",
    "         '30': 0.15,\n",
    "         '35': 0.25,\n",
    "         '40': 0.35}\n",
    "    _v = 0\n",
    "    for k,v in m.items():\n",
    "        _v = v if _phi >= int(k) else _v\n",
    "    return _v\n",
    "\n",
    "def ku_MeyerhofAdams(_phi):\n",
    "    return 0 if _phi < 30 else 0.126 * math.log(_phi) +0.4857\n",
    "\n",
    "def Qu_MeyerhofAdams(Coh, Ancho, Prof, eme, gamma_s, phi, Wcr, Wsaport):\n",
    "    return math.pi * Coh * Ancho * Prof + ( (1 + eme * Prof/Ancho) * math.pi/2 * gamma_s * Prof**2 * Ancho *eme * math.tan(phi) ) + Wcr + Wsaport"
   ]
  },
  {
   "cell_type": "code",
   "execution_count": null,
   "id": "87db5531-7cf7-4b55-9f66-093f782c2bbf",
   "metadata": {},
   "outputs": [],
   "source": [
    "# MÉTODO XY - TRANSELEC\n",
    "def Met_XY_excentricidad_comp(Permanentes, Eventuales, Ancho, Altura, Wc, Wconcr):\n",
    "    # CASO 1\n",
    "    _momentos = Permanentes * np.array([-1, Altura, Altura])+ np.array([3/4*Wc + Wconcr, -1/8 * Ancho * Wc, -1/8 * Ancho * Wc])\n",
    "    _exc = np.array([i/i.F_vert   for i in _momentos])\n",
    "    _exc = np.array([[0,0,0,0], _exc[:,2], _exc[:,1]]).T\n",
    "    _exc1 = [ sum(i) <  Ancho/6  for i in _exc]\n",
    "    _exc1 = _exc\n",
    "    #\n",
    "    _momentos = Eventuales * np.array([-1, Altura, Altura])+ np.array([3/4*Wc + Wconcr, -1/8 * Ancho * Wc, -1/8 * Ancho * Wc])\n",
    "    _exc = np.array([i/i.F_vert   for i in _momentos])\n",
    "    _exc = np.array([[0,0,0,0], _exc[:,2], _exc[:,1]]).T\n",
    "    _exc2 = [ sum(i) <  Ancho/6  for i in _exc]\n",
    "    _exc2 = _exc\n",
    "    \n",
    "    # CASO 2\n",
    "    #AGREGAR CASO 2\n",
    "\n",
    "    return [_exc1, _exc2, _exc3, _exc4]\n",
    "\n",
    "#Jc_Flag ACTUALIZAR FORMULA DE TRACCIÓN Y CREAR CASO DOS PARA COMPRESIÓN\n",
    "def Met_XY_excentricidad_trac(Permanentes, Eventuales, Ancho, Altura, Wc, Wconcr):\n",
    "    # CASO 1\n",
    "    _momentos = Permanentes * np.array([-1, Altura, Altura])+ np.array([3/4*Wc + Wconcr, -1/8 * Ancho * Wc, -1/8 * Ancho * Wc])\n",
    "    _exc = np.array([i/i.F_vert   for i in _momentos])\n",
    "    _exc = np.array([[0,0,0,0], _exc[:,2], _exc[:,1]]).T\n",
    "    _exc1 = [ sum(i) <  Ancho/6  for i in _exc]"
   ]
  },
  {
   "cell_type": "code",
   "execution_count": null,
   "id": "92ffbc48-2a86-494a-9aa5-74487a173c4d",
   "metadata": {},
   "outputs": [],
   "source": [
    "##########\n",
    "#PERMANENTES\n",
    "FC_perm = [-730, +25, +50]\n",
    "FT_perm = [+600, -30, +20]\n",
    "Fl_perm = [+000, +60, -40]\n",
    "Ft_perm = [+150, -20, -70]\n",
    "FR_perm = FReaction([FC_perm, FT_perm, Fl_perm, Ft_perm])\n",
    "    # Equiv\n",
    "FR_perm_equiv = matriz_equivalente(altura = (z2.g_altura_pedestal + z2.g_prof_zapata), \n",
    "                                    excentricidad = z2.g_excentricidad, \n",
    "                                    num_pata_c = input_pata_cr_comp,\n",
    "                                    num_pata_t = input_pata_cr_tr,\n",
    "                                    vector = FR_perm)\n",
    "#EVENTUALES\n",
    "FC_event = [-800, +12, +23]\n",
    "FT_event = [+650, -15, +10]\n",
    "Fl_event = [+000, +30, -20]\n",
    "Ft_event = [+200, -10, -35]\n",
    "FR_event = FReaction([FC_event, FT_event, Fl_event, Ft_event])\n",
    "    # Equiv\n",
    "FR_event_equiv = matriz_equivalente(altura = (z2.g_altura_pedestal + z2.g_prof_zapata), \n",
    "                                    excentricidad = z2.g_excentricidad, \n",
    "                                    num_pata_c = input_pata_cr_comp,\n",
    "                                    num_pata_t = input_pata_cr_tr,\n",
    "                                    vector = FR_event)"
   ]
  }
 ],
 "metadata": {
  "kernelspec": {
   "display_name": "Python 3 (ipykernel)",
   "language": "python",
   "name": "python3"
  },
  "language_info": {
   "codemirror_mode": {
    "name": "ipython",
    "version": 3
   },
   "file_extension": ".py",
   "mimetype": "text/x-python",
   "name": "python",
   "nbconvert_exporter": "python",
   "pygments_lexer": "ipython3",
   "version": "3.12.7"
  }
 },
 "nbformat": 4,
 "nbformat_minor": 5
}
