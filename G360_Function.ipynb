{
 "cells": [
  {
   "cell_type": "code",
   "execution_count": 244,
   "id": "3bc56aef-be34-4b34-b6ea-cf782e9b6ce9",
   "metadata": {},
   "outputs": [],
   "source": [
    "import math\n",
    "import numpy as np\n",
    "np.set_printoptions(suppress=True) #Evita notación científica\n",
    "\n",
    "import import_ipynb\n",
    "import G360_Parameter as param\n",
    "\n",
    "np.set_printoptions(suppress=True) #Evita notación científica\n",
    "from collections.abc import Iterable"
   ]
  },
  {
   "cell_type": "code",
   "execution_count": null,
   "id": "adb0f8b9-f369-4d04-a591-ac4f0529e0de",
   "metadata": {
    "jupyter": {
     "source_hidden": true
    }
   },
   "outputs": [],
   "source": [
    "# DEFINICIÓN DE FReaction PARA USARLO EN f(x):\n",
    "class FReaction(np.ndarray):\n",
    "    def __new__(cls, f_v, f_x=None, f_y=None):\n",
    "        if (f_x != None) & (f_y != None):\n",
    "            obj = np.array([f_v, f_x, f_y], dtype=float).view(cls)\n",
    "        else:\n",
    "            obj = np.array(f_v, dtype=float).view(cls)\n",
    "        return obj\n",
    "        \n",
    "    def __str__(self):\n",
    "        return repr(self)\n",
    "\n",
    "    @property\n",
    "    def F_vert(self):\n",
    "        return self[0]\n",
    "\n",
    "    @property\n",
    "    def F_x_long(self):\n",
    "        return self[1]\n",
    "\n",
    "    @property\n",
    "    def F_y_transv(self):\n",
    "        return self[2]"
   ]
  },
  {
   "cell_type": "code",
   "execution_count": 4,
   "id": "ecd5b0ac-a779-46fc-a24c-3fc571c674f0",
   "metadata": {
    "jupyter": {
     "source_hidden": true
    }
   },
   "outputs": [],
   "source": [
    "# FUNCIÓN DE INCREMENTO PARA VARIABLES DE CIMENTACIÓN\n",
    "def incremento(vrbl, incrmnt):\n",
    "    decimal = vrbl%1\n",
    "    entero = vrbl//1\n",
    "\n",
    "    #Generic (0.05, 0.1, 0.5)\n",
    "    if ( (1/incrmnt)%2 == 0 ):\n",
    "        vrbl += incrmnt\n",
    "\n",
    "    # Symmetric by 0.5 (0.2)\n",
    "    elif ( (1/incrmnt)%1 == 0 ):\n",
    "        if (0 <= decimal < 0.5) & (decimal + incrmnt > 0.5):\n",
    "            vrbl = entero + 0.5\n",
    "        elif (decimal == 0.5):\n",
    "            vrbl += incrmnt/2\n",
    "        else:\n",
    "            vrbl += incrmnt\n",
    "            \n",
    "    # error output (0.15, 0.3)         \n",
    "    else:\n",
    "        print('no itera')\n",
    "    \n",
    "    return vrbl   "
   ]
  },
  {
   "cell_type": "code",
   "execution_count": 5,
   "id": "4df1bf1b-c16f-404e-8487-f8169ce5562c",
   "metadata": {
    "editable": true,
    "jupyter": {
     "source_hidden": true
    },
    "slideshow": {
     "slide_type": ""
    },
    "tags": []
   },
   "outputs": [],
   "source": [
    "# CALCULO DE VOLUMEN PARA PIRAMIDE TRUNCADA\n",
    "def troncopiramidal(area_inf, area_sup, altura):\n",
    "    volumen = altura / 3 * (area_inf + area_sup + math.sqrt(area_inf * area_sup))\n",
    "    return volumen"
   ]
  },
  {
   "cell_type": "code",
   "execution_count": 6,
   "id": "1c94f32f-6c2d-4dc5-96a9-14c3f3dac902",
   "metadata": {
    "editable": true,
    "jupyter": {
     "source_hidden": true
    },
    "slideshow": {
     "slide_type": ""
    },
    "tags": []
   },
   "outputs": [],
   "source": [
    "# REDONDEO EN CANTIDAD DE DECIMALES\n",
    "def round_up(number, decimals):\n",
    "    factor = 10 ** decimals\n",
    "    return math.ceil(number * factor) / factor\n",
    "\n",
    "def round_down(number, decimals):\n",
    "    r_r = round_up(number, decimals) - 10**-decimals\n",
    "    r_r_plus_add = r_r + 10**-decimals\n",
    "    return r_r_plus_add if (r_r_plus_add == number) else r_r"
   ]
  },
  {
   "cell_type": "code",
   "execution_count": 7,
   "id": "885cff99-1878-466a-90e3-fec521bcc5e0",
   "metadata": {
    "editable": true,
    "jupyter": {
     "source_hidden": true
    },
    "slideshow": {
     "slide_type": ""
    },
    "tags": []
   },
   "outputs": [],
   "source": [
    "# REDONDEO EN MULTIPLOS\n",
    "def mround_up(x, multiple):\n",
    "    return math.ceil(x / multiple) * multiple\n",
    "\n",
    "def mround_down(x, multiple):\n",
    "    r_r = mround_up(x, multiple) - multiple\n",
    "    return r_r + multiple if math.isclose(x%multiple, multiple) else r_r"
   ]
  },
  {
   "cell_type": "code",
   "execution_count": 8,
   "id": "d4d4ef22-d906-408b-99ee-e90ba09ddabd",
   "metadata": {
    "jupyter": {
     "source_hidden": true
    }
   },
   "outputs": [],
   "source": [
    "# FUNCIÓN DE PROPORCIÓN PARA TRIANGULOS SEMEJANTES\n",
    "def proporcion(X,Y, y):\n",
    "    # X/Y == x/y\n",
    "    return y * X/Y"
   ]
  },
  {
   "cell_type": "code",
   "execution_count": 9,
   "id": "43717555-5e5d-4a0f-a387-6ceb704a7d77",
   "metadata": {
    "jupyter": {
     "source_hidden": true
    }
   },
   "outputs": [],
   "source": [
    "# ESTA FUNCIÓN RETORNA EL VALOR ABSOLUTO DE LAS FUERZAS CORTANTES DE LOS VECTORES DE LA FORMA [Fv, Fx, Fy] \n",
    "def abs_vectores(matrix):\n",
    "    Copia = matrix.copy()\n",
    "    len_i = len(Copia)\n",
    "    len_j = len(Copia[0])\n",
    "    \n",
    "    for i in range(len_i):\n",
    "        for j in range(1, len_j):\n",
    "            Copia[i][j] = abs(Copia[i][j])\n",
    "    return Copia"
   ]
  },
  {
   "cell_type": "code",
   "execution_count": 8,
   "id": "91a284f8-8311-4ec0-aa6e-2eada28fe227",
   "metadata": {
    "jupyter": {
     "source_hidden": true
    }
   },
   "outputs": [],
   "source": [
    "# DEVUELVE UNA MATRIX CON \"1\" SI LA CARGA VERTICAL ES A COMPRESIÓN O TRACCIÓN\n",
    "def casos_traccion(np_matrix):\n",
    "    Lista = [ np.array([0,0,0]) if (i[0] <= 0) else np.array([1,0,0]) for i in np.array(np_matrix) ]\n",
    "    return np.array(Lista)\n",
    "\n",
    "def casos_compresion(np_matrix):\n",
    "    Lista = [ np.array([0,0,0]) if (i[0] > 0) else np.array([1,0,0]) for i in np.array(np_matrix) ]\n",
    "    return np.array(Lista)"
   ]
  },
  {
   "cell_type": "code",
   "execution_count": 3,
   "id": "01eef49c-3e68-4fa3-a8c3-900cc5eb8b64",
   "metadata": {
    "jupyter": {
     "source_hidden": true
    }
   },
   "outputs": [],
   "source": [
    "# FUNCIÓN MAXIMOS Y MÍNIMOS QUE IGNORA CADENAS DE TEXTO\n",
    "def min_(obj):\n",
    "    _a = obj # OBJETO\n",
    "    _b = [] # LISTA A EVALUAR\n",
    "        # QUE SEA UN ITERABLE Y DIFERENTE A UN TEXTO\n",
    "    while (isinstance(_a[0], Iterable) and not isinstance(_a[0], str)):\n",
    "        for i in _a:\n",
    "            for j in i:\n",
    "                _b.append(j)\n",
    "        _a = _b\n",
    "        _b = []\n",
    "    _b_num = [i for i in _a if isinstance(i, (float, int))]\n",
    "    return min(_b_num)\n",
    "\n",
    "def max_(obj):\n",
    "    _a = obj # OBJETO\n",
    "    _b = [] # LISTA A EVALUAR\n",
    "        # QUE SEA UN ITERABLE Y DIFERENTE A UN TEXTO    \n",
    "    while (isinstance(_a[0], Iterable) and not isinstance(_a[0], str)):\n",
    "        for i in _a:\n",
    "            for j in i:\n",
    "                _b.append(j)\n",
    "        _a = _b\n",
    "        _b = []\n",
    "    _b_num = [i for i in _a if isinstance(i, (float, int))]\n",
    "    return max(_b_num)"
   ]
  },
  {
   "cell_type": "code",
   "execution_count": 12,
   "id": "52a6ce97-967b-4d63-9faf-b1bb1e4c93c9",
   "metadata": {
    "jupyter": {
     "source_hidden": true
    }
   },
   "outputs": [],
   "source": [
    "# CALCULO DE EMPUJO PASIVO\n",
    "def empuje_pasivo(q1, q2, Area, kp):\n",
    "    return 1/2 * (q1 + q2) * Area * kp"
   ]
  },
  {
   "cell_type": "code",
   "execution_count": 13,
   "id": "44bb1589-7c32-42ae-b24c-cbdceafd1106",
   "metadata": {
    "jupyter": {
     "source_hidden": true
    }
   },
   "outputs": [],
   "source": [
    "# FUNCIÓN PARA VALORES DEFAULT EN LAS VARIABLES OPCIONALES\n",
    "def dict_default(funcion):\n",
    "    try:\n",
    "        _r = funcion()\n",
    "    except Exception:\n",
    "        _r = None\n",
    "    return _r"
   ]
  },
  {
   "cell_type": "code",
   "execution_count": 14,
   "id": "d299c879-5636-48af-9709-8c5fcfaafda7",
   "metadata": {
    "jupyter": {
     "source_hidden": true
    }
   },
   "outputs": [],
   "source": [
    "# LONGITUD DE TEXTO EN DICCIONARIOS; PARA ALINEAMIENTO\n",
    "def len_values(diccionario):\n",
    "    _len_max = 0\n",
    "    for k,v in diccionario.items():\n",
    "        _len_max = len(v) if (len(v)>_len_max) else _len_max\n",
    "    return _len_max"
   ]
  },
  {
   "cell_type": "code",
   "execution_count": 15,
   "id": "030fcaec-b8ee-4ac1-abeb-b37fd939d645",
   "metadata": {
    "jupyter": {
     "source_hidden": true
    }
   },
   "outputs": [],
   "source": [
    "# CONVERSIÓN DE MATRIZ EQUIVALENTE PARA CHILE CONSIDERANDO LA EXCENTRICIDAD\n",
    "def Fx_y_equivalencias(num_pata, vector, excentricidad, altura):\n",
    "    np.set_printoptions(suppress=True)\n",
    "    _m = []\n",
    "    #1\n",
    "    if num_pata == 1:\n",
    "        for i in vector:\n",
    "            _v = np.array([+ i.F_vert,\n",
    "                           + i.F_vert * excentricidad/altura + i.F_x_long, \n",
    "                           - i.F_vert * excentricidad/altura - i.F_y_transv ])\n",
    "            _m.append(_v)\n",
    "    #2\n",
    "    elif num_pata == 2:\n",
    "        for i in vector:\n",
    "            _v = np.array([+ i.F_vert,\n",
    "                           + i.F_vert * excentricidad/altura + i.F_x_long, \n",
    "                           + i.F_vert * excentricidad/altura - i.F_y_transv ])\n",
    "            _m.append(_v)\n",
    "    #3\n",
    "    elif num_pata == 3:\n",
    "        for i in vector:\n",
    "            _v = np.array([+ i.F_vert,\n",
    "                           - i.F_vert * excentricidad/altura + i.F_x_long, \n",
    "                           + i.F_vert * excentricidad/altura - i.F_y_transv ])\n",
    "            _m.append(_v)        \n",
    "    #4\n",
    "    elif num_pata == 4:\n",
    "        for i in vector:\n",
    "            _v = np.array([+ i.F_vert,\n",
    "                           - i.F_vert * excentricidad/altura + i.F_x_long, \n",
    "                           - i.F_vert * excentricidad/altura - i.F_y_transv ])\n",
    "            _m.append(_v)        \n",
    "    #0\n",
    "    else:\n",
    "        for i in vector:\n",
    "            _v = np.array([+ i.F_vert,\n",
    "                           + abs(i.F_vert) * excentricidad/altura + abs(i.F_x_long), \n",
    "                           + abs(i.F_vert) * excentricidad/altura + abs(i.F_y_transv) ])\n",
    "            _m.append(_v)    \n",
    "    return np.array(_m)\n",
    "\n",
    "def matriz_equivalente(altura, excentricidad, num_pata_c, num_pata_t, vector):\n",
    "    f_c = Fx_y_equivalencias(altura = altura, \n",
    "                       excentricidad = excentricidad, \n",
    "                       num_pata = num_pata_c, \n",
    "                       vector = vector)\n",
    "    f_t = Fx_y_equivalencias(altura = altura, \n",
    "                       excentricidad = excentricidad, \n",
    "                       num_pata = num_pata_t, \n",
    "                       vector = vector)\n",
    "    _mtrx = []\n",
    "    for i in range(4):\n",
    "        if vector[i].F_vert <= 0:\n",
    "            _mtrx.append(f_c[i])\n",
    "        else:\n",
    "            _mtrx.append(f_t[i])\n",
    "    _mtrx = FReaction(_mtrx)\n",
    "    return _mtrx"
   ]
  },
  {
   "cell_type": "code",
   "execution_count": 16,
   "id": "5c604f75-18ac-4fd5-af30-51964b58beaa",
   "metadata": {
    "jupyter": {
     "source_hidden": true
    }
   },
   "outputs": [],
   "source": [
    "# FORMULAS Y TABLAS PARA MÉTODO MeyerhofAdams\n",
    "def m_MeyerhofAdams(_phi):\n",
    "        # f\t    m\n",
    "    m = {'20': 0.05,\n",
    "         '25': 0.10,\n",
    "         '30': 0.15,\n",
    "         '35': 0.25,\n",
    "         '40': 0.35}\n",
    "    _v = 0\n",
    "    for k,v in m.items():\n",
    "        _v = v if _phi >= int(k) else _v\n",
    "    return _v\n",
    "\n",
    "def ku_MeyerhofAdams(_phi):\n",
    "    return 0 if _phi < 30 else 0.126 * math.log(_phi) +0.4857\n",
    "\n",
    "def Qu_MeyerhofAdams(Coh, Ancho, Prof, eme, gamma_s, phi, Wcr, Wsaport):\n",
    "    return math.pi * Coh * Ancho * Prof + ( (1 + eme * Prof/Ancho) * math.pi/2 * gamma_s * Prof**2 * Ancho *eme * math.tan(phi) ) + Wcr + Wsaport"
   ]
  },
  {
   "cell_type": "code",
   "execution_count": 1,
   "id": "9d6da6df-e6c2-45d4-bb66-f3c029c820d6",
   "metadata": {
    "jupyter": {
     "source_hidden": true
    }
   },
   "outputs": [],
   "source": [
    "# CONVERSIÓN A ANGULO TRIDIMENSIONAL\n",
    "def ang_bid_to_trid(ang_bid):\n",
    "    ang_trid = math.atan( math.sqrt(2) * math.tan(ang_bid) )\n",
    "    return ang_trid"
   ]
  },
  {
   "cell_type": "code",
   "execution_count": 4,
   "id": "b4c06760-2957-4ce9-9c92-df4a7fedd7b7",
   "metadata": {
    "jupyter": {
     "source_hidden": true
    },
    "scrolled": true
   },
   "outputs": [],
   "source": [
    "# CENTROIDE PARA UN TRAPECIO, APORTE kp LOSA\n",
    "def cg_trapecio(b, B, h):\n",
    "    cg = (h / 3) * ((b + 2 * B) / (b + B))\n",
    "    return cg"
   ]
  },
  {
   "cell_type": "code",
   "execution_count": 204,
   "id": "823abe4c-67bb-4db9-bc95-fb9e216db63f",
   "metadata": {
    "jupyter": {
     "source_hidden": true
    }
   },
   "outputs": [],
   "source": [
    "# ECUACIONES DE MOMENTOS PARA VIGAS Equiv\n",
    "def Mom_viga_voladizo(ω , luz):\n",
    "    return ω * luz**2 /2\n",
    "\n",
    "def Mom_viga_simple_apoyada(ω , luz):    \n",
    "    return ω * luz**2 /8\n",
    "\n",
    "def Ref_flexotrac(Ps, Mc2, D, recub, fy, fc):\n",
    "    Mm = (Ps * 10)/(0.9 * fy) + (0.85*fc)/(fy) * ( 1 -np.sqrt( 1- 2 * (fy * Mc2)/(.85 * fc * 0.9 * D * (D*.8-recub)**2  * 1000 * fy) ))  * D * (.8 * D-recub) * 2*10000\n",
    "    return Mm\n",
    "\n",
    "def Mom_viga_esbelta(Geometria, fprima_c, fy, ancho, rr, luz, Vector):\n",
    "#PARAMETROS\n",
    "    ME = 4700 * math.sqrt(fprima_c)*1000 \n",
    "    MI = ancho**4/12 if Geometria==0 else math.pi * (ancho/2)**4 /4\n",
    "    rgiro = (0.3 if Geometria==0 else 0.25)*ancho\n",
    "    flong_eff = 2.1\n",
    "    B_nds = 0.6\n",
    "    _phi = 0.75\n",
    "    EIeff = 0.4 * MI * ME /(1+B_nds)\n",
    "\n",
    "# MODIFICAR VECTOR DE REACCIONES\n",
    "    # PESO DEL PEDESTAL\n",
    "    Vector -= np.array([24 * ancho**2 * luz  ,0,0])\n",
    "    \n",
    "    # REACCION EN x, y\n",
    "    if Geometria==1 :\n",
    "        Vector_xy = np.sqrt(Vector[:,1]**2 + Vector[:,2]**2)\n",
    "    else:\n",
    "        Vector_xy = np.maximum(abs(Vector[:,1]), abs(Vector[:,2]))\n",
    "    Vector[:,1] = Vector_xy\n",
    "    Vector = Vector[:, :-1]\n",
    "\n",
    "    # AGREGAR MOMENTO HASTA EL PEDESTAL\n",
    "    Vector = np.column_stack( (Vector,  Vector_xy * luz  ))\n",
    "    \n",
    "    #\n",
    "    Esbeltez = flong_eff * luz / rgiro > 22\n",
    "    if Esbeltez == True:\n",
    "        # EFECTOS DE ESBELTEZ\n",
    "        Pc = math.pi**2 *EIeff/(flong_eff * luz)**2\n",
    "        Ps = abs( Vector * casos_compresion(Vector) )[:,0]\n",
    "        \n",
    "        delta = 1/(1- Ps/(_phi * Pc))\n",
    "        Mc = delta * Vector[:,2]\n",
    "        Delta = Vector_xy * luz**3 / (3 * EIeff) * 1000\n",
    "        M2o = Delta * Ps/1000\n",
    "        Mc2 = M2o + Mc\n",
    "\n",
    "        Vector[:,2] = Mc2        \n",
    "    return Vector"
   ]
  },
  {
   "cell_type": "code",
   "execution_count": null,
   "id": "b912c24d-ad0d-4047-a502-fcfadbb3262a",
   "metadata": {
    "jupyter": {
     "source_hidden": true
    }
   },
   "outputs": [],
   "source": [
    "# ESFUERZOS σ DE COMPRESIÓN EN EL SUELO\n",
    "def sigma_comp(Fv, Ancho, exc):\n",
    "    L_sigma = []\n",
    "    for i in range(4):\n",
    "        sigma = []\n",
    "    \n",
    "        sigma.append(Fv[i]/Ancho**2 * (Ancho + 6 * exc[i][0] + 6 * exc[i][1])/Ancho)\n",
    "        sigma.append(Fv[i]/Ancho**2 * (Ancho + 6 * exc[i][0] - 6 * exc[i][1])/Ancho)\n",
    "        sigma.append(Fv[i]/Ancho**2 * (Ancho - 6 * exc[i][0] + 6 * exc[i][1])/Ancho)\n",
    "        sigma.append(Fv[i]/Ancho**2 * (Ancho - 6 * exc[i][0] - 6 * exc[i][1])/Ancho)\n",
    "        \n",
    "        sigma = np.array(sigma)\n",
    "        L_sigma.append(sigma)\n",
    "        \n",
    "    return np.array(L_sigma)"
   ]
  },
  {
   "cell_type": "code",
   "execution_count": 246,
   "id": "8a33b6bd-5c88-43c7-9c43-2c3615404b0b",
   "metadata": {},
   "outputs": [
    {
     "data": {
      "text/plain": [
       "array([['No.3', '9.5', '70.9', '0.56', '57.0', '0.8'],\n",
       "       ['No.4', '12.7', '126.7', '0.994', '76.2', '0.8'],\n",
       "       ['No.5', '15.9', '198.6', '1.552', '95.4', '0.8'],\n",
       "       ['No.6', '19.1', '286.5', '2.235', '114.6', '0.8'],\n",
       "       ['No.7', '22.2', '387.1', '3.042', '133.2', '1.0'],\n",
       "       ['No.8', '25.4', '506.7', '3.973', '152.4', '1.0'],\n",
       "       ['No.9', '28.6', '641.4', '5.067', '171.45', '1.0'],\n",
       "       ['No.10', '31.8', '791.8', '6.255', '190.5', '1.0'],\n",
       "       ['No.11', '34.9', '958.0', '7.568', '209.55', '1.0']], dtype='<U32')"
      ]
     },
     "execution_count": 246,
     "metadata": {},
     "output_type": "execute_result"
    }
   ],
   "source": [
    "param.BARRAS_mm"
   ]
  },
  {
   "cell_type": "code",
   "execution_count": 17,
   "id": "87db5531-7cf7-4b55-9f66-093f782c2bbf",
   "metadata": {},
   "outputs": [],
   "source": [
    "# MÉTODO XY - TRANSELEC\n",
    "def Met_XY_excentricidad_comp(Permanentes, Eventuales, Ancho, Altura, Wc, Wconcr):\n",
    "    # CASO 1\n",
    "    _momentos = Permanentes * np.array([-1, Altura, Altura])+ np.array([3/4*Wc + Wconcr, -1/8 * Ancho * Wc, -1/8 * Ancho * Wc])\n",
    "    _exc = np.array([i/i.F_vert   for i in _momentos])\n",
    "    _exc = np.array([[0,0,0,0], _exc[:,2], _exc[:,1]]).T\n",
    "    _exc1 = [ sum(i) <  Ancho/6  for i in _exc]\n",
    "    _exc1 = _exc\n",
    "    #\n",
    "    _momentos = Eventuales * np.array([-1, Altura, Altura])+ np.array([3/4*Wc + Wconcr, -1/8 * Ancho * Wc, -1/8 * Ancho * Wc])\n",
    "    _exc = np.array([i/i.F_vert   for i in _momentos])\n",
    "    _exc = np.array([[0,0,0,0], _exc[:,2], _exc[:,1]]).T\n",
    "    _exc2 = [ sum(i) <  Ancho/6  for i in _exc]\n",
    "    _exc2 = _exc\n",
    "    \n",
    "    # CASO 2\n",
    "    #AGREGAR CASO 2\n",
    "\n",
    "    return [_exc1, _exc2, _exc3, _exc4]\n",
    "\n",
    "#Jc_Flag ACTUALIZAR FORMULA DE TRACCIÓN Y CREAR CASO DOS PARA COMPRESIÓN SEGÚN TRANSELEC\n",
    "def Met_XY_excentricidad_trac(Permanentes, Eventuales, Ancho, Altura, Wc, Wconcr):\n",
    "    # CASO 1\n",
    "    _momentos = Permanentes * np.array([-1, Altura, Altura])+ np.array([3/4*Wc + Wconcr, -1/8 * Ancho * Wc, -1/8 * Ancho * Wc])\n",
    "    _exc = np.array([i/i.F_vert   for i in _momentos])\n",
    "    _exc = np.array([[0,0,0,0], _exc[:,2], _exc[:,1]]).T\n",
    "    _exc1 = [ sum(i) <  Ancho/6  for i in _exc]"
   ]
  },
  {
   "cell_type": "code",
   "execution_count": null,
   "id": "4d96896a-8a79-4f6a-9031-de088d0806f9",
   "metadata": {},
   "outputs": [],
   "source": []
  }
 ],
 "metadata": {
  "kernelspec": {
   "display_name": "Python [conda env:base] *",
   "language": "python",
   "name": "conda-base-py"
  },
  "language_info": {
   "codemirror_mode": {
    "name": "ipython",
    "version": 3
   },
   "file_extension": ".py",
   "mimetype": "text/x-python",
   "name": "python",
   "nbconvert_exporter": "python",
   "pygments_lexer": "ipython3",
   "version": "3.12.7"
  }
 },
 "nbformat": 4,
 "nbformat_minor": 5
}
