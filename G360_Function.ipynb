{
 "cells": [
  {
   "cell_type": "code",
   "execution_count": 15,
   "id": "3bc56aef-be34-4b34-b6ea-cf782e9b6ce9",
   "metadata": {},
   "outputs": [],
   "source": [
    "import math\n",
    "import numpy as np\n",
    "np.set_printoptions(suppress=True) #Evita notación científica\n",
    "\n",
    "import import_ipynb\n",
    "import G360_Parameter as param\n",
    "\n",
    "np.set_printoptions(suppress=True) #Evita notación científica\n",
    "from collections.abc import Iterable"
   ]
  },
  {
   "cell_type": "code",
   "execution_count": null,
   "id": "adb0f8b9-f369-4d04-a591-ac4f0529e0de",
   "metadata": {
    "jupyter": {
     "source_hidden": true
    }
   },
   "outputs": [],
   "source": [
    "# DEFINICIÓN DE FReaction PARA USARLO EN f(x):\n",
    "class FReaction(np.ndarray):\n",
    "    def __new__(cls, f_v, f_x=None, f_y=None):\n",
    "        if (f_x != None) & (f_y != None):\n",
    "            obj = np.array([f_v, f_x, f_y], dtype=float).view(cls)\n",
    "        else:\n",
    "            obj = np.array(f_v, dtype=float).view(cls)\n",
    "        return obj\n",
    "        \n",
    "    def __str__(self):\n",
    "        return repr(self)\n",
    "\n",
    "    @property\n",
    "    def F_vert(self):\n",
    "        return self[0]\n",
    "\n",
    "    @property\n",
    "    def F_x_long(self):\n",
    "        return self[1]\n",
    "\n",
    "    @property\n",
    "    def F_y_transv(self):\n",
    "        return self[2]"
   ]
  },
  {
   "cell_type": "code",
   "execution_count": 4,
   "id": "ecd5b0ac-a779-46fc-a24c-3fc571c674f0",
   "metadata": {
    "jupyter": {
     "source_hidden": true
    }
   },
   "outputs": [],
   "source": [
    "# FUNCIÓN DE INCREMENTO PARA VARIABLES DE CIMENTACIÓN\n",
    "def incremento(vrbl, incrmnt):\n",
    "    decimal = vrbl%1\n",
    "    entero = vrbl//1\n",
    "\n",
    "    #Generic (0.05, 0.1, 0.5)\n",
    "    if ( (1/incrmnt)%2 == 0 ):\n",
    "        vrbl += incrmnt\n",
    "\n",
    "    # Symmetric by 0.5 (0.2)\n",
    "    elif ( (1/incrmnt)%1 == 0 ):\n",
    "        if (0 <= decimal < 0.5) & (decimal + incrmnt > 0.5):\n",
    "            vrbl = entero + 0.5\n",
    "        elif (decimal == 0.5):\n",
    "            vrbl += incrmnt/2\n",
    "        else:\n",
    "            vrbl += incrmnt\n",
    "            \n",
    "    # error output (0.15, 0.3)         \n",
    "    else:\n",
    "        print('no itera')\n",
    "    \n",
    "    return vrbl   "
   ]
  },
  {
   "cell_type": "code",
   "execution_count": 5,
   "id": "4df1bf1b-c16f-404e-8487-f8169ce5562c",
   "metadata": {
    "editable": true,
    "jupyter": {
     "source_hidden": true
    },
    "slideshow": {
     "slide_type": ""
    },
    "tags": []
   },
   "outputs": [],
   "source": [
    "# CALCULO DE VOLUMEN PARA PIRAMIDE TRUNCADA\n",
    "def troncopiramidal(area_inf, area_sup, altura):\n",
    "    volumen = altura / 3 * (area_inf + area_sup + math.sqrt(area_inf * area_sup))\n",
    "    return volumen"
   ]
  },
  {
   "cell_type": "code",
   "execution_count": 6,
   "id": "1c94f32f-6c2d-4dc5-96a9-14c3f3dac902",
   "metadata": {
    "editable": true,
    "jupyter": {
     "source_hidden": true
    },
    "slideshow": {
     "slide_type": ""
    },
    "tags": []
   },
   "outputs": [],
   "source": [
    "# REDONDEO EN CANTIDAD DE DECIMALES\n",
    "def round_up(number, decimals):\n",
    "    factor = 10 ** decimals\n",
    "    return math.ceil(number * factor) / factor\n",
    "\n",
    "def round_down(number, decimals):\n",
    "    r_r = round_up(number, decimals) - 10**-decimals\n",
    "    r_r_plus_add = r_r + 10**-decimals\n",
    "    return r_r_plus_add if (r_r_plus_add == number) else r_r"
   ]
  },
  {
   "cell_type": "code",
   "execution_count": 34,
   "id": "885cff99-1878-466a-90e3-fec521bcc5e0",
   "metadata": {
    "editable": true,
    "slideshow": {
     "slide_type": ""
    },
    "tags": []
   },
   "outputs": [],
   "source": [
    "# REDONDEO EN MULTIPLOS\n",
    "def mround_up(x, multiple):\n",
    "    return math.ceil(x / multiple) * multiple\n",
    "\n",
    "def mround_down(x, multiple):\n",
    "    r_r = mround_up(x, multiple) - multiple\n",
    "    return r_r + multiple if math.isclose(x%multiple, multiple) else r_r"
   ]
  },
  {
   "cell_type": "code",
   "execution_count": 8,
   "id": "d4d4ef22-d906-408b-99ee-e90ba09ddabd",
   "metadata": {
    "jupyter": {
     "source_hidden": true
    }
   },
   "outputs": [],
   "source": [
    "# FUNCIÓN DE PROPORCIÓN PARA TRIANGULOS SEMEJANTES\n",
    "def proporcion(X,Y, y):\n",
    "    # X/Y == x/y\n",
    "    return y * X/Y"
   ]
  },
  {
   "cell_type": "code",
   "execution_count": 9,
   "id": "43717555-5e5d-4a0f-a387-6ceb704a7d77",
   "metadata": {
    "jupyter": {
     "source_hidden": true
    }
   },
   "outputs": [],
   "source": [
    "# ESTA FUNCIÓN RETORNA EL VALOR ABSOLUTO DE LAS FUERZAS CORTANTES DE LOS VECTORES DE LA FORMA [Fv, Fx, Fy] \n",
    "def abs_vectores(matrix):\n",
    "    Copia = matrix.copy()\n",
    "    len_i = len(Copia)\n",
    "    len_j = len(Copia[0])\n",
    "    \n",
    "    for i in range(len_i):\n",
    "        for j in range(1, len_j):\n",
    "            Copia[i][j] = abs(Copia[i][j])\n",
    "    return Copia"
   ]
  },
  {
   "cell_type": "code",
   "execution_count": 8,
   "id": "91a284f8-8311-4ec0-aa6e-2eada28fe227",
   "metadata": {
    "jupyter": {
     "source_hidden": true
    }
   },
   "outputs": [],
   "source": [
    "# DEVUELVE UNA MATRIX CON \"1\" SI LA CARGA VERTICAL ES A COMPRESIÓN O TRACCIÓN\n",
    "def casos_traccion(np_matrix):\n",
    "    Lista = [ np.array([0,0,0]) if (i[0] <= 0) else np.array([1,0,0]) for i in np.array(np_matrix) ]\n",
    "    return np.array(Lista)\n",
    "\n",
    "def casos_compresion(np_matrix):\n",
    "    Lista = [ np.array([0,0,0]) if (i[0] > 0) else np.array([1,0,0]) for i in np.array(np_matrix) ]\n",
    "    return np.array(Lista)"
   ]
  },
  {
   "cell_type": "code",
   "execution_count": 3,
   "id": "01eef49c-3e68-4fa3-a8c3-900cc5eb8b64",
   "metadata": {
    "jupyter": {
     "source_hidden": true
    }
   },
   "outputs": [],
   "source": [
    "# FUNCIÓN MAXIMOS Y MÍNIMOS QUE IGNORA CADENAS DE TEXTO\n",
    "def min_(obj):\n",
    "    _a = obj # OBJETO\n",
    "    _b = [] # LISTA A EVALUAR\n",
    "        # QUE SEA UN ITERABLE Y DIFERENTE A UN TEXTO\n",
    "    while (isinstance(_a[0], Iterable) and not isinstance(_a[0], str)):\n",
    "        for i in _a:\n",
    "            for j in i:\n",
    "                _b.append(j)\n",
    "        _a = _b\n",
    "        _b = []\n",
    "    _b_num = [i for i in _a if isinstance(i, (float, int))]\n",
    "    return min(_b_num)\n",
    "\n",
    "def max_(obj):\n",
    "    _a = obj # OBJETO\n",
    "    _b = [] # LISTA A EVALUAR\n",
    "        # QUE SEA UN ITERABLE Y DIFERENTE A UN TEXTO    \n",
    "    while (isinstance(_a[0], Iterable) and not isinstance(_a[0], str)):\n",
    "        for i in _a:\n",
    "            for j in i:\n",
    "                _b.append(j)\n",
    "        _a = _b\n",
    "        _b = []\n",
    "    _b_num = [i for i in _a if isinstance(i, (float, int))]\n",
    "    return max(_b_num)"
   ]
  },
  {
   "cell_type": "code",
   "execution_count": 12,
   "id": "52a6ce97-967b-4d63-9faf-b1bb1e4c93c9",
   "metadata": {
    "jupyter": {
     "source_hidden": true
    }
   },
   "outputs": [],
   "source": [
    "# CALCULO DE EMPUJO PASIVO\n",
    "def empuje_pasivo(q1, q2, Area, kp):\n",
    "    return 1/2 * (q1 + q2) * Area * kp"
   ]
  },
  {
   "cell_type": "code",
   "execution_count": 13,
   "id": "44bb1589-7c32-42ae-b24c-cbdceafd1106",
   "metadata": {
    "jupyter": {
     "source_hidden": true
    }
   },
   "outputs": [],
   "source": [
    "# FUNCIÓN PARA VALORES DEFAULT EN LAS VARIABLES OPCIONALES\n",
    "def dict_default(funcion):\n",
    "    try:\n",
    "        _r = funcion()\n",
    "    except Exception:\n",
    "        _r = None\n",
    "    return _r"
   ]
  },
  {
   "cell_type": "code",
   "execution_count": 14,
   "id": "d299c879-5636-48af-9709-8c5fcfaafda7",
   "metadata": {
    "jupyter": {
     "source_hidden": true
    }
   },
   "outputs": [],
   "source": [
    "# LONGITUD DE TEXTO EN DICCIONARIOS; PARA ALINEAMIENTO\n",
    "def len_values(diccionario):\n",
    "    _len_max = 0\n",
    "    for k,v in diccionario.items():\n",
    "        _len_max = len(v) if (len(v)>_len_max) else _len_max\n",
    "    return _len_max"
   ]
  },
  {
   "cell_type": "code",
   "execution_count": 15,
   "id": "030fcaec-b8ee-4ac1-abeb-b37fd939d645",
   "metadata": {
    "jupyter": {
     "source_hidden": true
    }
   },
   "outputs": [],
   "source": [
    "# CONVERSIÓN DE MATRIZ EQUIVALENTE PARA CHILE CONSIDERANDO LA EXCENTRICIDAD\n",
    "def Fx_y_equivalencias(num_pata, vector, excentricidad, altura):\n",
    "    np.set_printoptions(suppress=True)\n",
    "    _m = []\n",
    "    #1\n",
    "    if num_pata == 1:\n",
    "        for i in vector:\n",
    "            _v = np.array([+ i.F_vert,\n",
    "                           + i.F_vert * excentricidad/altura + i.F_x_long, \n",
    "                           - i.F_vert * excentricidad/altura - i.F_y_transv ])\n",
    "            _m.append(_v)\n",
    "    #2\n",
    "    elif num_pata == 2:\n",
    "        for i in vector:\n",
    "            _v = np.array([+ i.F_vert,\n",
    "                           + i.F_vert * excentricidad/altura + i.F_x_long, \n",
    "                           + i.F_vert * excentricidad/altura - i.F_y_transv ])\n",
    "            _m.append(_v)\n",
    "    #3\n",
    "    elif num_pata == 3:\n",
    "        for i in vector:\n",
    "            _v = np.array([+ i.F_vert,\n",
    "                           - i.F_vert * excentricidad/altura + i.F_x_long, \n",
    "                           + i.F_vert * excentricidad/altura - i.F_y_transv ])\n",
    "            _m.append(_v)        \n",
    "    #4\n",
    "    elif num_pata == 4:\n",
    "        for i in vector:\n",
    "            _v = np.array([+ i.F_vert,\n",
    "                           - i.F_vert * excentricidad/altura + i.F_x_long, \n",
    "                           - i.F_vert * excentricidad/altura - i.F_y_transv ])\n",
    "            _m.append(_v)        \n",
    "    #0\n",
    "    else:\n",
    "        for i in vector:\n",
    "            _v = np.array([+ i.F_vert,\n",
    "                           + abs(i.F_vert) * excentricidad/altura + abs(i.F_x_long), \n",
    "                           + abs(i.F_vert) * excentricidad/altura + abs(i.F_y_transv) ])\n",
    "            _m.append(_v)    \n",
    "    return np.array(_m)\n",
    "\n",
    "def matriz_equivalente(altura, excentricidad, num_pata_c, num_pata_t, vector):\n",
    "    f_c = Fx_y_equivalencias(altura = altura, \n",
    "                       excentricidad = excentricidad, \n",
    "                       num_pata = num_pata_c, \n",
    "                       vector = vector)\n",
    "    f_t = Fx_y_equivalencias(altura = altura, \n",
    "                       excentricidad = excentricidad, \n",
    "                       num_pata = num_pata_t, \n",
    "                       vector = vector)\n",
    "    _mtrx = []\n",
    "    for i in range(4):\n",
    "        if vector[i].F_vert <= 0:\n",
    "            _mtrx.append(f_c[i])\n",
    "        else:\n",
    "            _mtrx.append(f_t[i])\n",
    "    _mtrx = FReaction(_mtrx)\n",
    "    return _mtrx"
   ]
  },
  {
   "cell_type": "code",
   "execution_count": 16,
   "id": "5c604f75-18ac-4fd5-af30-51964b58beaa",
   "metadata": {
    "jupyter": {
     "source_hidden": true
    }
   },
   "outputs": [],
   "source": [
    "# FORMULAS Y TABLAS PARA MÉTODO MeyerhofAdams\n",
    "def m_MeyerhofAdams(_phi):\n",
    "        # f\t    m\n",
    "    m = {'20': 0.05,\n",
    "         '25': 0.10,\n",
    "         '30': 0.15,\n",
    "         '35': 0.25,\n",
    "         '40': 0.35}\n",
    "    _v = 0\n",
    "    for k,v in m.items():\n",
    "        _v = v if _phi >= int(k) else _v\n",
    "    return _v\n",
    "\n",
    "def ku_MeyerhofAdams(_phi):\n",
    "    return 0 if _phi < 30 else 0.126 * math.log(_phi) +0.4857\n",
    "\n",
    "def Qu_MeyerhofAdams(Coh, Ancho, Prof, eme, gamma_s, phi, Wcr, Wsaport):\n",
    "    return math.pi * Coh * Ancho * Prof + ( (1 + eme * Prof/Ancho) * math.pi/2 * gamma_s * Prof**2 * Ancho *eme * math.tan(phi) ) + Wcr + Wsaport"
   ]
  },
  {
   "cell_type": "code",
   "execution_count": 1,
   "id": "9d6da6df-e6c2-45d4-bb66-f3c029c820d6",
   "metadata": {
    "jupyter": {
     "source_hidden": true
    }
   },
   "outputs": [],
   "source": [
    "# CONVERSIÓN A ANGULO TRIDIMENSIONAL\n",
    "def ang_bid_to_trid(ang_bid):\n",
    "    ang_trid = math.atan( math.sqrt(2) * math.tan(ang_bid) )\n",
    "    return ang_trid"
   ]
  },
  {
   "cell_type": "code",
   "execution_count": 4,
   "id": "b4c06760-2957-4ce9-9c92-df4a7fedd7b7",
   "metadata": {
    "jupyter": {
     "source_hidden": true
    },
    "scrolled": true
   },
   "outputs": [],
   "source": [
    "# CENTROIDE PARA UN TRAPECIO, APORTE kp LOSA\n",
    "def cg_trapecio(b, B, h):\n",
    "    cg = (h / 3) * ((b + 2 * B) / (b + B))\n",
    "    return cg"
   ]
  },
  {
   "cell_type": "code",
   "execution_count": 204,
   "id": "823abe4c-67bb-4db9-bc95-fb9e216db63f",
   "metadata": {
    "jupyter": {
     "source_hidden": true
    }
   },
   "outputs": [],
   "source": [
    "# ECUACIONES DE MOMENTOS PARA VIGAS Equiv\n",
    "def Mom_viga_voladizo(ω , luz):\n",
    "    return ω * luz**2 /2\n",
    "\n",
    "def Mom_viga_simple_apoyada(ω , luz):    \n",
    "    return ω * luz**2 /8\n",
    "\n",
    "def Ref_flexotrac(Ps, Mc2, D, recub, fy, fc):\n",
    "    Mm = (Ps * 10)/(0.9 * fy) + (0.85*fc)/(fy) * ( 1 -np.sqrt( 1- 2 * (fy * Mc2)/(.85 * fc * 0.9 * D * (D*.8-recub)**2  * 1000 * fy) ))  * D * (.8 * D-recub) * 2*10000\n",
    "    return Mm\n",
    "\n",
    "def Mom_viga_esbelta(Geometria, fprima_c, fy, ancho, rr, luz, Vector):\n",
    "#PARAMETROS\n",
    "    ME = 4700 * math.sqrt(fprima_c)*1000 \n",
    "    MI = ancho**4/12 if Geometria==0 else math.pi * (ancho/2)**4 /4\n",
    "    rgiro = (0.3 if Geometria==0 else 0.25)*ancho\n",
    "    flong_eff = 2.1\n",
    "    B_nds = 0.6\n",
    "    _phi = 0.75\n",
    "    EIeff = 0.4 * MI * ME /(1+B_nds)\n",
    "\n",
    "# MODIFICAR VECTOR DE REACCIONES\n",
    "    # PESO DEL PEDESTAL\n",
    "    Vector -= np.array([24 * ancho**2 * luz  ,0,0])\n",
    "    \n",
    "    # REACCION EN x, y\n",
    "    if Geometria==1 :\n",
    "        Vector_xy = np.sqrt(Vector[:,1]**2 + Vector[:,2]**2)\n",
    "    else:\n",
    "        Vector_xy = np.maximum(abs(Vector[:,1]), abs(Vector[:,2]))\n",
    "    Vector[:,1] = Vector_xy\n",
    "    Vector = Vector[:, :-1]\n",
    "\n",
    "    # AGREGAR MOMENTO HASTA EL PEDESTAL\n",
    "    Vector = np.column_stack( (Vector,  Vector_xy * luz  ))\n",
    "    \n",
    "    #\n",
    "    Esbeltez = flong_eff * luz / rgiro > 22\n",
    "    if Esbeltez == True:\n",
    "        # EFECTOS DE ESBELTEZ\n",
    "        Pc = math.pi**2 *EIeff/(flong_eff * luz)**2\n",
    "        Ps = abs( Vector * casos_compresion(Vector) )[:,0]\n",
    "        \n",
    "        delta = 1/(1- Ps/(_phi * Pc))\n",
    "        Mc = delta * Vector[:,2]\n",
    "        Delta = Vector_xy * luz**3 / (3 * EIeff) * 1000\n",
    "        M2o = Delta * Ps/1000\n",
    "        Mc2 = M2o + Mc\n",
    "\n",
    "        Vector[:,2] = Mc2        \n",
    "    return Vector"
   ]
  },
  {
   "cell_type": "code",
   "execution_count": null,
   "id": "b912c24d-ad0d-4047-a502-fcfadbb3262a",
   "metadata": {
    "jupyter": {
     "source_hidden": true
    }
   },
   "outputs": [],
   "source": [
    "# ESFUERZOS σ DE COMPRESIÓN EN EL SUELO\n",
    "def sigma_comp(Fv, Ancho, exc):\n",
    "    L_sigma = []\n",
    "    for i in range(4):\n",
    "        sigma = []\n",
    "    \n",
    "        sigma.append(Fv[i]/Ancho**2 * (Ancho + 6 * exc[i][0] + 6 * exc[i][1])/Ancho)\n",
    "        sigma.append(Fv[i]/Ancho**2 * (Ancho + 6 * exc[i][0] - 6 * exc[i][1])/Ancho)\n",
    "        sigma.append(Fv[i]/Ancho**2 * (Ancho - 6 * exc[i][0] + 6 * exc[i][1])/Ancho)\n",
    "        sigma.append(Fv[i]/Ancho**2 * (Ancho - 6 * exc[i][0] - 6 * exc[i][1])/Ancho)\n",
    "        \n",
    "        sigma = np.array(sigma)\n",
    "        L_sigma.append(sigma)\n",
    "        \n",
    "    return np.array(L_sigma)"
   ]
  },
  {
   "cell_type": "code",
   "execution_count": 9,
   "id": "874368d3-97f1-4295-b42a-24eacba9a684",
   "metadata": {},
   "outputs": [],
   "source": [
    "BARRAS_in = np.array([\n",
    "   #['Barra',  'Diam [mm]', 'Area [mm²]', 'w [kgf/m]', '6 db [mm]', 'ψs'],\n",
    "    ['No.3',     9.5,          71,          0.560,       57.0,        0.8],\n",
    "    ['No.4',    12.7,         129,          0.994,       76.2,        0.8],\n",
    "    ['No.5',    15.9,         199,          1.552,       95.4,        0.8],\n",
    "    ['No.6',    19.1,         284,          2.235,      114.6,        0.8],\n",
    "    ['No.7',    22.2,         387,          3.042,      133.2,        1.0],\n",
    "    ['No.8',    25.4,         510,          3.973,      152.4,        1.0],\n",
    "    ['No.9',    28.7,         645,          5.060,      172.2,        1.0],\n",
    "    ['No.10',   32.3,         819,          6.404,      193.8,        1.0],\n",
    "    ['No.11',   35.8,        1006,          7.907,      214.8,        1.0]  ])\n",
    "BARRAS_mm = np.array([\n",
    "   #['Barra',  'Diam [mm]', 'Area [mm²]', 'w [kgf/m]', '6 db [mm]', 'ψs'],\n",
    "    [10,      10.0,         78.5,         0.616,        60.0,      0.8],\n",
    "    [12,      12.0,        113.1,         0.887,        72.0,      0.8],\n",
    "    [16,      16.0,        201.1,         1.577,        96.0,      0.8],\n",
    "    [18,      18.0,        254.5,         1.996,       108.0,      0.8],\n",
    "    [20,      20.0,        314.2,         2.465,       120.0,      0.8],\n",
    "    [22,      22.0,        380.1,         2.982,       132.0,      1.0],\n",
    "    [25,      25.0,        490.9,         3.973,       150.0,      1.0],\n",
    "    [28,      28.0,        616.0,         4.855,       168.0,      1.0],\n",
    "    [30,      30.0,        706.9,         5.544,       180.0,      1.0],\n",
    "    [32,      32.0,        804.2,         6.309,       192.0,      1.0],\n",
    "    [36,      36.0,       1017.0,         7.907,       216.0,      1.0]  ])"
   ]
  },
  {
   "cell_type": "code",
   "execution_count": 1,
   "id": "8a33b6bd-5c88-43c7-9c43-2c3615404b0b",
   "metadata": {},
   "outputs": [
    {
     "ename": "NameError",
     "evalue": "name 'param' is not defined",
     "output_type": "error",
     "traceback": [
      "\u001b[1;31m---------------------------------------------------------------------------\u001b[0m",
      "\u001b[1;31mNameError\u001b[0m                                 Traceback (most recent call last)",
      "Cell \u001b[1;32mIn[1], line 2\u001b[0m\n\u001b[0;32m      1\u001b[0m \u001b[38;5;66;03m#['Barra',  'Diam [mm]', 'Area [mm²]', 'w [kgf/m]', '6 db [mm]', 'ψs'],\u001b[39;00m\n\u001b[1;32m----> 2\u001b[0m barras_in \u001b[38;5;241m=\u001b[39m param\u001b[38;5;241m.\u001b[39mBARRAS_in[:, \u001b[38;5;241m1\u001b[39m:\u001b[38;5;241m6\u001b[39m]\u001b[38;5;241m.\u001b[39mastype(\u001b[38;5;28mfloat\u001b[39m)\n\u001b[0;32m      3\u001b[0m barras_mm \u001b[38;5;241m=\u001b[39m param\u001b[38;5;241m.\u001b[39mBARRAS_mm[:, \u001b[38;5;241m1\u001b[39m:\u001b[38;5;241m6\u001b[39m]\u001b[38;5;241m.\u001b[39mastype(\u001b[38;5;28mfloat\u001b[39m)\n\u001b[0;32m      5\u001b[0m Diam_interno_mm \u001b[38;5;241m=\u001b[39m np\u001b[38;5;241m.\u001b[39marray([ \u001b[38;5;241m60.\u001b[39m,  \u001b[38;5;241m72.\u001b[39m,  \u001b[38;5;241m96.\u001b[39m, \u001b[38;5;241m108.\u001b[39m, \u001b[38;5;241m120.\u001b[39m, \u001b[38;5;241m132.\u001b[39m, \u001b[38;5;241m150.\u001b[39m, \u001b[38;5;241m224.\u001b[39m, \u001b[38;5;241m240.\u001b[39m, \u001b[38;5;241m256.\u001b[39m, \u001b[38;5;241m288.\u001b[39m])\n",
      "\u001b[1;31mNameError\u001b[0m: name 'param' is not defined"
     ]
    }
   ],
   "source": [
    "#['Barra',  'Diam [mm]', 'Area [mm²]', 'w [kgf/m]', '6 db [mm]', 'ψs'],\n",
    "barras_in = param.BARRAS_in[:, 1:6].astype(float)\n",
    "barras_mm = param.BARRAS_mm[:, 1:6].astype(float)\n",
    "\n",
    "Diam_interno_mm = np.array([ 60.,  72.,  96., 108., 120., 132., 150., 224., 240., 256., 288.])\n",
    "Diam_interno_in = np.array([ 57. ,  76.2,  95.4, 114.6, 133.2, 152.4, 229.6, 258.4, 286.4])\n",
    "\n",
    "#############\n",
    "    \n",
    "index_mm = barras_mm[:,0]\n",
    "index_in = barras_in[:,0]\n",
    "\n",
    "def diam_nb(nb, SU):\n",
    "    if SU == 'inches':\n",
    "        return index_in[nb-3]\n",
    "    else:\n",
    "        return nb\n",
    "def nb_diam(diam, SU):\n",
    "    if SU == 'inches':\n",
    "        return list(index_in).index(diam)+3\n",
    "    else:\n",
    "        return nb    \n",
    "        \n",
    "def mm_index(diam):\n",
    "    return list(index_mm).index(diam)\n",
    "def in_index(diam):\n",
    "    return list(index_in).index(diam)\n",
    "\n",
    "def Area_baras_in(diam):\n",
    "    return barras_in[in_index(diam), 1]\n",
    "def Peso_baras_in(diam):\n",
    "    return barras_in[in_index(diam), 2]\n",
    "    \n",
    "def Area_baras_mm(diam):\n",
    "    return barras_mm[mm_index(diam), 1]\n",
    "def Peso_baras_mm(diam):\n",
    "    return barras_mm[mm_index(diam), 2]\n",
    "\n",
    "def index_(diam,  unidad):\n",
    "    if unidad == \"inches\":\n",
    "        return in_index(diam)\n",
    "    else:\n",
    "        return mm_index(diam)\n",
    "\n",
    "def Area_b(diam,  unidad):\n",
    "    if unidad == \"inches\":\n",
    "        return Area_baras_in(diam)\n",
    "    else:\n",
    "        return Area_baras_mm(diam)\n",
    "\n",
    "def Peso_b(diam,  unidad):\n",
    "    if unidad == \"inches\":\n",
    "        return Peso_baras_in(diam)\n",
    "    else:\n",
    "        return Peso_baras_mm(diam)\n",
    "\n",
    "def ld_(ffprimac, ffy, recub,  # MPa, Mpa, m\n",
    "           # VARIABLES OPCIONALES: \n",
    "           SU = \"inches\" ,\n",
    "           spacing = None, n_barras_quese_desarrollan = None, D_EST_conf = None, # m, 1, num_De_barra\n",
    "           A_req = 1, A_col = 1,\n",
    "           concr_tripo = 1 ): # cm2, cm2\n",
    "    \n",
    "    if SU == \"inches\" :\n",
    "        barras, Diam_interno, confinam_ = barras_in , Diam_interno_in, np.array([2.00, 2.00, 2.00, 2.00, 2.00, 2.00, 1.80, 1.60, 1.40])\n",
    "    else :\n",
    "        barras, Diam_interno, confinam_ = barras_mm , Diam_interno_mm, np.array([2.00, 2.00, 2.00, 2.00, 2.00, 2.00, 1.80, 1.60, 1.40, 1.40, 1.40])\n",
    "\n",
    "    #Reducción de ld 25.5.2.1\n",
    "    fr_ = A_col/A_req\n",
    "\n",
    "    # concr_tripo = 1: normal ; 0.75: liviano\n",
    "    λ = concr_tripo\n",
    "    # Ψ_g : Grado del acero\n",
    "    if ffy <= 420:\n",
    "        Ψ_g = 1\n",
    "    elif ffy <= 550:\n",
    "        Ψ_g = 1.5\n",
    "    else:\n",
    "        Ψ_g = 1.3\n",
    "    # Ψ_e : Recubrimiento epóxico o zinc ; 1: Sin recub epox\n",
    "    Ψ_e = 1\n",
    "    # Ψ_s : Factor para diametro de barra\n",
    "    Ψ_s = barras[:, 4]\n",
    "    # Ψ_t : Concreto bajo el refuerzo; de forma general 1.3\n",
    "    Ψ_t = 1.3\n",
    "    # Ψ_t * Ψ_e < 1.7\n",
    "    Ψ_tΨ_e = min(1.7, Ψ_t * Ψ_e)\n",
    "    # confinamiento (cb+tr)/db\n",
    "    db = barras[:,0]\n",
    "    sense1 = ( (spacing is None) or (n_barras_quese_desarrollan is None) or (D_EST_conf is None) )\n",
    "    if sense1 == True:\n",
    "        confinam = confinam_\n",
    "    else:\n",
    "            # Area de estribos en confinamiento\n",
    "        # A_EST_conf = (  math.pi * D_EST_conf  **2 /4  )\n",
    "        A_EST_conf = Area_baras_in(D_EST_conf) if SU == \"inches\" else Area_baras_mm(D_EST_conf)\n",
    "        cb = min(spacing/2 , recub)\n",
    "        ktr = 40*2* A_EST_conf / (spacing *1000* n_barras_quese_desarrollan)\n",
    "        confinam = np.minimum((cb*1000 + ktr)/db ,  2.5)\n",
    "    \n",
    "    # ld [mm]: longitud de desarrollo 25.4.2.5\n",
    "    ld_i = ffy/(1.1 * λ * math.sqrt(ffprimac))  *  (Ψ_tΨ_e * Ψ_s * Ψ_g)/confinam * db\n",
    "    ld = np.maximum(ld_i/fr_, 300)\n",
    "\n",
    "    # Ψ_r : Confinamiento del refuerzo\n",
    "    # sense1 = ( (spacing is None) or (n_barras_quese_desarrollan is None) or (D_EST_conf is None) )\n",
    "    if sense1 == True:\n",
    "        Ψ_r = np.full_like(db, 1.6, dtype=float)\n",
    "    else:\n",
    "        cond = (spacing * 1000 > 6 * db) | (2 * A_EST_conf > 0.4 * n_barras_quese_desarrollan * barras[:,1])\n",
    "        Ψ_r = np.where(cond, 1.0, 1.6)\n",
    "    # Ψ_o : Ubicación según recubrimiento\n",
    "    Ψ_o = 1.25 if recub <= 0.06 else 1\n",
    "    # Ψ_c : Regresión asociada a f'c\n",
    "    Ψ_c = ffprimac/105 + 0.6 if ffprimac < 42 else 1\n",
    "\n",
    "    #ldh [mm]: longitud de desarrollo con gancho estandar 25.4.3.1\n",
    "    ldh_i = (ffy * Ψ_e * Ψ_r * Ψ_o * Ψ_c )/(23 * λ * math.sqrt(ffprimac)) * db**1.5\n",
    "    ldh = np.maximum(np.maximum(150, 8*db), ldh_i/fr_)\n",
    "\n",
    "    #Longitud de gancho estandar, incluye diametro interno de doblado 25.3.1\n",
    "    lg_90 = 12*db + Diam_interno/2\n",
    "    # lg_90 = [ mround_up(i, 1)  for i in lg_90]\n",
    "    lg_180 = np.maximum(4*db , 65) + Diam_interno/2\n",
    "    # lg_180 = [ mround_up(i, 1)  for i in lg_180]\n",
    "\n",
    "    # Longitud de traslapo 25.5.2.1\n",
    "    lt_i = ld_i/fr_ * 1.3\n",
    "    lt = np.maximum(lt_i , 300)\n",
    "\n",
    "    output = np.array([ld, ldh, lt, lg_90, lg_180])\n",
    "    output = np.vectorize(mround_up)(output, 1)\n",
    "\n",
    "    return output"
   ]
  },
  {
   "cell_type": "code",
   "execution_count": 17,
   "id": "87db5531-7cf7-4b55-9f66-093f782c2bbf",
   "metadata": {},
   "outputs": [],
   "source": [
    "# MÉTODO XY - TRANSELEC\n",
    "def Met_XY_excentricidad_comp(Permanentes, Eventuales, Ancho, Altura, Wc, Wconcr):\n",
    "    # CASO 1\n",
    "    _momentos = Permanentes * np.array([-1, Altura, Altura])+ np.array([3/4*Wc + Wconcr, -1/8 * Ancho * Wc, -1/8 * Ancho * Wc])\n",
    "    _exc = np.array([i/i.F_vert   for i in _momentos])\n",
    "    _exc = np.array([[0,0,0,0], _exc[:,2], _exc[:,1]]).T\n",
    "    _exc1 = [ sum(i) <  Ancho/6  for i in _exc]\n",
    "    _exc1 = _exc\n",
    "    #\n",
    "    _momentos = Eventuales * np.array([-1, Altura, Altura])+ np.array([3/4*Wc + Wconcr, -1/8 * Ancho * Wc, -1/8 * Ancho * Wc])\n",
    "    _exc = np.array([i/i.F_vert   for i in _momentos])\n",
    "    _exc = np.array([[0,0,0,0], _exc[:,2], _exc[:,1]]).T\n",
    "    _exc2 = [ sum(i) <  Ancho/6  for i in _exc]\n",
    "    _exc2 = _exc\n",
    "    \n",
    "    # CASO 2\n",
    "    #AGREGAR CASO 2\n",
    "\n",
    "    return [_exc1, _exc2, _exc3, _exc4]\n",
    "\n",
    "#Jc_Flag ACTUALIZAR FORMULA DE TRACCIÓN Y CREAR CASO DOS PARA COMPRESIÓN SEGÚN TRANSELEC\n",
    "def Met_XY_excentricidad_trac(Permanentes, Eventuales, Ancho, Altura, Wc, Wconcr):\n",
    "    # CASO 1\n",
    "    _momentos = Permanentes * np.array([-1, Altura, Altura])+ np.array([3/4*Wc + Wconcr, -1/8 * Ancho * Wc, -1/8 * Ancho * Wc])\n",
    "    _exc = np.array([i/i.F_vert   for i in _momentos])\n",
    "    _exc = np.array([[0,0,0,0], _exc[:,2], _exc[:,1]]).T\n",
    "    _exc1 = [ sum(i) <  Ancho/6  for i in _exc]"
   ]
  }
 ],
 "metadata": {
  "kernelspec": {
   "display_name": "Python [conda env:base] *",
   "language": "python",
   "name": "conda-base-py"
  },
  "language_info": {
   "codemirror_mode": {
    "name": "ipython",
    "version": 3
   },
   "file_extension": ".py",
   "mimetype": "text/x-python",
   "name": "python",
   "nbconvert_exporter": "python",
   "pygments_lexer": "ipython3",
   "version": "3.12.7"
  }
 },
 "nbformat": 4,
 "nbformat_minor": 5
}
