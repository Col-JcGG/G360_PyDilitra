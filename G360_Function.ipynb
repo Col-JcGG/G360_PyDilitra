{
 "cells": [
  {
   "cell_type": "code",
   "execution_count": 2,
   "id": "3bc56aef-be34-4b34-b6ea-cf782e9b6ce9",
   "metadata": {},
   "outputs": [],
   "source": [
    "import math"
   ]
  },
  {
   "cell_type": "code",
   "execution_count": 3,
   "id": "ecd5b0ac-a779-46fc-a24c-3fc571c674f0",
   "metadata": {},
   "outputs": [],
   "source": [
    "# Incremento de variable\n",
    "def incremento(vrbl, incrmnt):\n",
    "    decimal = vrbl%1\n",
    "    entero = vrbl//1\n",
    "\n",
    "    #Generic (0.05, 0.1, 0.5)\n",
    "    if ( (1/incrmnt)%2 == 0 ):\n",
    "        vrbl += incrmnt\n",
    "\n",
    "    # Symmetric by 0.5 (0.2)\n",
    "    elif ( (1/incrmnt)%1 == 0 ):\n",
    "        if (0 <= decimal < 0.5) & (decimal + incrmnt > 0.5):\n",
    "            vrbl = entero + 0.5\n",
    "        elif (decimal == 0.5):\n",
    "            vrbl += incrmnt/2\n",
    "        else:\n",
    "            vrbl += incrmnt\n",
    "            \n",
    "    # error output (0.15, 0.3)         \n",
    "    else:\n",
    "        print('no itera')\n",
    "    \n",
    "    return vrbl   "
   ]
  },
  {
   "cell_type": "code",
   "execution_count": 4,
   "id": "4df1bf1b-c16f-404e-8487-f8169ce5562c",
   "metadata": {
    "editable": true,
    "slideshow": {
     "slide_type": ""
    },
    "tags": []
   },
   "outputs": [],
   "source": [
    "def troncopiramidal(area_inf, area_sup, altura):\n",
    "    volumen = altura / 3 * (area_inf + area_sup + math.sqrt(area_inf * area_sup))\n",
    "    return volumen"
   ]
  },
  {
   "cell_type": "code",
   "execution_count": 28,
   "id": "1c94f32f-6c2d-4dc5-96a9-14c3f3dac902",
   "metadata": {
    "editable": true,
    "slideshow": {
     "slide_type": ""
    },
    "tags": []
   },
   "outputs": [],
   "source": [
    "def round_up(number, decimals):\n",
    "    factor = 10 ** decimals\n",
    "    return math.ceil(number * factor) / factor\n",
    "\n",
    "def round_down(number, decimals):\n",
    "    return round_up(number, decimals) - 10**-decimals"
   ]
  },
  {
   "cell_type": "code",
   "execution_count": 20,
   "id": "885cff99-1878-466a-90e3-fec521bcc5e0",
   "metadata": {
    "editable": true,
    "slideshow": {
     "slide_type": ""
    },
    "tags": []
   },
   "outputs": [],
   "source": [
    "def mround_up(x, multiple):\n",
    "    return math.ceil(x / multiple) * multiple"
   ]
  },
  {
   "cell_type": "code",
   "execution_count": 27,
   "id": "1c6d5a26-77f7-46da-b473-22e5a68233cf",
   "metadata": {},
   "outputs": [
    {
     "name": "stdout",
     "output_type": "stream",
     "text": [
      "10.0\n",
      "0.0\n"
     ]
    }
   ],
   "source": [
    "print(round_up(7.45, -1))\n",
    "print(round_down(7.45, -1))"
   ]
  },
  {
   "cell_type": "code",
   "execution_count": 23,
   "id": "28a14ad4-df78-4ed5-af4b-7ce5d73f23a7",
   "metadata": {},
   "outputs": [
    {
     "data": {
      "text/plain": [
       "7.4"
      ]
     },
     "execution_count": 23,
     "metadata": {},
     "output_type": "execute_result"
    }
   ],
   "source": []
  },
  {
   "cell_type": "markdown",
   "id": "ef7ab813-b3ba-43e9-9994-d8ab5c81a784",
   "metadata": {
    "editable": true,
    "jp-MarkdownHeadingCollapsed": true,
    "slideshow": {
     "slide_type": ""
    },
    "tags": []
   },
   "source": [
    "## try"
   ]
  },
  {
   "cell_type": "code",
   "execution_count": 127,
   "id": "045b1309-e2a3-4874-a5ef-c43f723b3f02",
   "metadata": {
    "collapsed": true,
    "jupyter": {
     "outputs_hidden": true
    }
   },
   "outputs": [
    {
     "name": "stdout",
     "output_type": "stream",
     "text": [
      "no itera\n",
      "2, no itera\n",
      "2, no itera\n",
      "2, no itera\n",
      "2, no itera\n",
      "2, no itera\n",
      "2, no itera\n",
      "2, no itera\n",
      "2, no itera\n",
      "2, no itera\n",
      "2, no itera\n",
      "2, no itera\n",
      "2, no itera\n",
      "2, no itera\n",
      "2, no itera\n",
      "2, no itera\n",
      "2, no itera\n",
      "2, no itera\n",
      "2, no itera\n",
      "2, no itera\n",
      "2, no itera\n",
      "2, "
     ]
    }
   ],
   "source": [
    "ancho = 2 \n",
    "for i in range(0, 20+1):\n",
    "    ancho = F_incremento(ancho,.15)\n",
    "    print(round(ancho,2), end = ', ')"
   ]
  },
  {
   "cell_type": "code",
   "execution_count": null,
   "id": "cab719a7-6b44-4ecd-8289-c4f0cf21d20e",
   "metadata": {},
   "outputs": [],
   "source": []
  },
  {
   "cell_type": "code",
   "execution_count": null,
   "id": "1731bcdf-c61b-4a57-a3fd-3c7ad861b9d1",
   "metadata": {},
   "outputs": [],
   "source": []
  }
 ],
 "metadata": {
  "kernelspec": {
   "display_name": "anaconda-panel-2023.05-py310",
   "language": "python",
   "name": "conda-env-anaconda-panel-2023.05-py310-py"
  },
  "language_info": {
   "codemirror_mode": {
    "name": "ipython",
    "version": 3
   },
   "file_extension": ".py",
   "mimetype": "text/x-python",
   "name": "python",
   "nbconvert_exporter": "python",
   "pygments_lexer": "ipython3",
   "version": "3.11.5"
  }
 },
 "nbformat": 4,
 "nbformat_minor": 5
}
