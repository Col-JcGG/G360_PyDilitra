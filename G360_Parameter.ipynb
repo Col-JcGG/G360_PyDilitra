{
 "cells": [
  {
   "cell_type": "markdown",
   "id": "7b4ff516-ca8a-45ac-ba79-00512fd6d123",
   "metadata": {},
   "source": [
    "import math\n",
    "\n",
    "wxPython\n",
    "\n",
    "import wx"
   ]
  },
  {
   "cell_type": "code",
   "execution_count": 5,
   "id": "5938fb8c-734f-4886-af42-68e6f56c8ca8",
   "metadata": {},
   "outputs": [],
   "source": [
    "import math\n",
    "import numpy as np"
   ]
  },
  {
   "cell_type": "code",
   "execution_count": 1,
   "id": "02e47976-4b89-4945-b6d9-94054b86a7a5",
   "metadata": {},
   "outputs": [],
   "source": [
    "# FACTORES DE SEGURIDAD DE CHEQUEO\n",
    "FS_ARRANC = 1.5\n",
    "FS_DESLIZAM = 1.5\n",
    "FS_VOLCAM = 1.5\n",
    "\n",
    "# FACTORES DE SEGURIDAD ANTE FRICCIÓN\n",
    "FS_FRICCION_EVENT = 1.3\n",
    "FS_COHESION_EVENT = 3\n",
    "FS_EMPUJE_EVENT = 3\n",
    "FS_FRICCION_PERM = 1.5\n",
    "FS_COHESION_PERM = 4\n",
    "FS_EMPUJE_PERM = 4\n",
    "\n",
    "# CHILE\n",
    "FS_MAYORAR_PERM = 1.5\n",
    "FS_MAYORAR_EVENT = 1.2\n",
    "\n",
    "PR = 0.1\n",
    "\n",
    "# FS PARA EL DISEÑO\n",
    "φ_cortante = 0.75\n",
    "φ_flexion = 0.90\n",
    "ρ_minima = 0.0018\n"
   ]
  },
  {
   "cell_type": "code",
   "execution_count": 5,
   "id": "5e1deaa3-045d-44db-8d6a-d9b437a53f84",
   "metadata": {},
   "outputs": [],
   "source": [
    "# PARÁMETROS \n",
    "FPRIMC = 21 #MPa\n",
    "CONCR = {'E':4700*math.sqrt(FPRIMC)}"
   ]
  },
  {
   "cell_type": "code",
   "execution_count": 1,
   "id": "c52bdb14-96ab-4e23-9ec6-76c73858cd11",
   "metadata": {
    "jupyter": {
     "source_hidden": true
    }
   },
   "outputs": [],
   "source": [
    "SUELOS_CHILE = {\n",
    "'1':{'C':0,   'phi':0,  'betha': 30, 'SueloArranc':20, 'SueloAplast': 23, 'ConcrArranc': 23, 'ConcrAplast':24, 'CapAdm': 2000, 'CapHztl':1500},\n",
    "'2':{'C':60,  'phi':35, 'betha': 40, 'SueloArranc':20, 'SueloAplast': 20, 'ConcrArranc': 23, 'ConcrAplast':24, 'CapAdm': 600,  'CapHztl':500},\n",
    "'3F':{'C':0,  'phi':35, 'betha': 30, 'SueloArranc':20, 'SueloAplast': 20, 'ConcrArranc': 23, 'ConcrAplast':24, 'CapAdm': 400,  'CapHztl':300},\n",
    "'4F':{'C':0,  'phi':30, 'betha': 30, 'SueloArranc':16, 'SueloAplast': 20, 'ConcrArranc': 23, 'ConcrAplast':24, 'CapAdm': 200,  'CapHztl':150},\n",
    "'4C':{'C':70, 'phi':0,  'betha': 30, 'SueloArranc':16, 'SueloAplast': 20, 'ConcrArranc': 23, 'ConcrAplast':24, 'CapAdm': 200,  'CapHztl':150},\n",
    "'5F':{'C':0,  'phi':35, 'betha': 40, 'SueloArranc':10, 'SueloAplast': 20, 'ConcrArranc': 13, 'ConcrAplast':24, 'CapAdm': 300,  'CapHztl':250},\n",
    "'5C':{'C':40, 'phi':30, 'betha': 40, 'SueloArranc':10, 'SueloAplast': 20, 'ConcrArranc': 13, 'ConcrAplast':24, 'CapAdm': 300,  'CapHztl':250},\n",
    "'6F':{'C':0,  'phi':30, 'betha': 30, 'SueloArranc':10, 'SueloAplast': 20, 'ConcrArranc': 13, 'ConcrAplast':24, 'CapAdm': 150,  'CapHztl':0},\n",
    "'6C':{'C':50, 'phi':0,  'betha': 30, 'SueloArranc':10, 'SueloAplast': 20, 'ConcrArranc': 13, 'ConcrAplast':24, 'CapAdm': 150,  'CapHztl':0},\n",
    "'7C':{'C':25, 'phi':0,  'betha': 20, 'SueloArranc':10, 'SueloAplast': 16, 'ConcrArranc': 13, 'ConcrAplast':24, 'CapAdm': 50,   'CapHztl':0}}"
   ]
  },
  {
   "cell_type": "code",
   "execution_count": 15,
   "id": "d861a842-d87d-40cd-8077-d3c0f2d0141d",
   "metadata": {},
   "outputs": [],
   "source": [
    "# TABLA DE BARRAS in, mm\n",
    "BARRAS_in = np.array([\n",
    "   #['Barra',  'Diam [mm]', 'Area [mm²]', 'w [kgf/m]', '6 db [mm]', 'ψs'],\n",
    "    ['No.3',     9.5,          71,          0.560,       57.0,        0.8],\n",
    "    ['No.4',    12.7,         129,          0.994,       76.2,        0.8],\n",
    "    ['No.5',    15.9,         199,          1.552,       95.4,        0.8],\n",
    "    ['No.6',    19.1,         284,          2.235,      114.6,        0.8],\n",
    "    ['No.7',    22.2,         387,          3.042,      133.2,        1.0],\n",
    "    ['No.8',    25.4,         510,          3.973,      152.4,        1.0],\n",
    "    ['No.9',    28.7,         645,          5.060,      172.2,        1.0],\n",
    "    ['No.10',   32.3,         819,          6.404,      193.8,        1.0],\n",
    "    ['No.11',   35.8,        1006,          7.907,      214.8,        1.0]  ])\n",
    "\n",
    "BARRAS_mm = np.array([\n",
    "   #['Barra',  'Diam [mm]', 'Area [mm²]', 'w [kgf/m]', '6 db [mm]', 'ψs'],\n",
    "    [10,      10.0,         78.5,         0.616,        60.0,      0.8],\n",
    "    [12,      12.0,        113.1,         0.887,        72.0,      0.8],\n",
    "    [16,      16.0,        201.1,         1.577,        96.0,      0.8],\n",
    "    [18,      18.0,        254.5,         1.996,       108.0,      0.8],\n",
    "    [20,      20.0,        314.2,         2.465,       120.0,      0.8],\n",
    "    [22,      22.0,        380.1,         2.982,       132.0,      1.0],\n",
    "    [25,      25.0,        490.9,         3.973,       150.0,      1.0],\n",
    "    [28,      28.0,        616.0,         4.855,       168.0,      1.0],\n",
    "    [30,      30.0,        706.9,         5.544,       180.0,      1.0],\n",
    "    [32,      32.0,        804.2,         6.309,       192.0,      1.0],\n",
    "    [36,      36.0,       1017.0,         7.907,       216.0,      1.0]  ])\n",
    "\n"
   ]
  },
  {
   "cell_type": "code",
   "execution_count": 19,
   "id": "5f07172c-4cad-4157-8917-c6b6835deaf8",
   "metadata": {},
   "outputs": [],
   "source": [
    "# Tabla original: diámetro y área\n"
   ]
  },
  {
   "cell_type": "code",
   "execution_count": 11,
   "id": "089fcdd3-a219-4fb0-87b5-5a6fbc2cd70e",
   "metadata": {},
   "outputs": [
    {
     "name": "stdout",
     "output_type": "stream",
     "text": [
      "4\n",
      "8\n",
      "12\n",
      "16\n"
     ]
    }
   ],
   "source": [
    "for i in range(4, 20,4):\n",
    "    print(i)"
   ]
  },
  {
   "cell_type": "code",
   "execution_count": null,
   "id": "fbb8a815-f80e-4cc1-98c7-0a8592f6794e",
   "metadata": {},
   "outputs": [],
   "source": []
  }
 ],
 "metadata": {
  "kernelspec": {
   "display_name": "Python [conda env:base] *",
   "language": "python",
   "name": "conda-base-py"
  },
  "language_info": {
   "codemirror_mode": {
    "name": "ipython",
    "version": 3
   },
   "file_extension": ".py",
   "mimetype": "text/x-python",
   "name": "python",
   "nbconvert_exporter": "python",
   "pygments_lexer": "ipython3",
   "version": "3.12.7"
  }
 },
 "nbformat": 4,
 "nbformat_minor": 5
}
