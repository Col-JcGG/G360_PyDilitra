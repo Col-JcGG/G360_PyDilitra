{
 "cells": [
  {
   "cell_type": "markdown",
   "id": "7b4ff516-ca8a-45ac-ba79-00512fd6d123",
   "metadata": {},
   "source": [
    "import math\n",
    "\n",
    "wxPython\n",
    "\n",
    "import wx"
   ]
  },
  {
   "cell_type": "code",
   "execution_count": 30,
   "id": "02e47976-4b89-4945-b6d9-94054b86a7a5",
   "metadata": {},
   "outputs": [],
   "source": [
    "FS_HOLGURA = 0.1"
   ]
  },
  {
   "cell_type": "code",
   "execution_count": null,
   "id": "5e1deaa3-045d-44db-8d6a-d9b437a53f84",
   "metadata": {},
   "outputs": [],
   "source": [
    "FPRIMC = 21 #MPa\n",
    "CONCR = {'E':4700*math.sqrt(FPRIMC)}"
   ]
  },
  {
   "cell_type": "code",
   "execution_count": 2,
   "id": "c52bdb14-96ab-4e23-9ec6-76c73858cd11",
   "metadata": {},
   "outputs": [],
   "source": [
    "SUELOS_CHILE = {'1':{'C':0, 'phi':0, 'betha': 30, 'SueloArranc':20, 'SueloAplast': 23, 'ConcrArranc': 23, 'ConcrAplast':24, 'CapAdm': 2000, 'CapHztl':1500},\n",
    "'2':{'C':60, 'phi':35, 'betha': 40, 'SueloArranc':20, 'SueloAplast': 20, 'ConcrArranc': 23, 'ConcrAplast':24, 'CapAdm': 600, 'CapHztl':500},\n",
    "'3F':{'C':0, 'phi':35, 'betha': 30, 'SueloArranc':20, 'SueloAplast': 20, 'ConcrArranc': 23, 'ConcrAplast':24, 'CapAdm': 400, 'CapHztl':300},\n",
    "'4F':{'C':0, 'phi':30, 'betha': 30, 'SueloArranc':16, 'SueloAplast': 20, 'ConcrArranc': 23, 'ConcrAplast':24, 'CapAdm': 200, 'CapHztl':150},\n",
    "'4C':{'C':70, 'phi':0, 'betha': 30, 'SueloArranc':16, 'SueloAplast': 20, 'ConcrArranc': 23, 'ConcrAplast':24, 'CapAdm': 200, 'CapHztl':150},\n",
    "'5F':{'C':0, 'phi':35, 'betha': 40, 'SueloArranc':10, 'SueloAplast': 20, 'ConcrArranc': 13, 'ConcrAplast':24, 'CapAdm': 300, 'CapHztl':250},\n",
    "'5C':{'C':40, 'phi':30, 'betha': 40, 'SueloArranc':10, 'SueloAplast': 20, 'ConcrArranc': 13, 'ConcrAplast':24, 'CapAdm': 300, 'CapHztl':250},\n",
    "'6F':{'C':0, 'phi':30, 'betha': 30, 'SueloArranc':10, 'SueloAplast': 20, 'ConcrArranc': 13, 'ConcrAplast':24, 'CapAdm': 150, 'CapHztl':0},\n",
    "'6C':{'C':50, 'phi':0, 'betha': 30, 'SueloArranc':10, 'SueloAplast': 20, 'ConcrArranc': 13, 'ConcrAplast':24, 'CapAdm': 150, 'CapHztl':0},\n",
    "'7C':{'C':25, 'phi':0, 'betha': 20, 'SueloArranc':10, 'SueloAplast': 16, 'ConcrArranc': 13, 'ConcrAplast':24, 'CapAdm': 50, 'CapHztl':0}}"
   ]
  },
  {
   "cell_type": "code",
   "execution_count": 7,
   "id": "333c27ef-6389-4a91-a775-c8661baaf6e8",
   "metadata": {},
   "outputs": [
    {
     "data": {
      "text/plain": [
       "'³'"
      ]
     },
     "execution_count": 7,
     "metadata": {},
     "output_type": "execute_result"
    }
   ],
   "source": [
    "f'\\u00b3'"
   ]
  },
  {
   "cell_type": "code",
   "execution_count": null,
   "id": "5f07172c-4cad-4157-8917-c6b6835deaf8",
   "metadata": {},
   "outputs": [],
   "source": []
  }
 ],
 "metadata": {
  "kernelspec": {
   "display_name": "Python 3 (ipykernel)",
   "language": "python",
   "name": "python3"
  },
  "language_info": {
   "codemirror_mode": {
    "name": "ipython",
    "version": 3
   },
   "file_extension": ".py",
   "mimetype": "text/x-python",
   "name": "python",
   "nbconvert_exporter": "python",
   "pygments_lexer": "ipython3",
   "version": "3.12.7"
  }
 },
 "nbformat": 4,
 "nbformat_minor": 5
}
