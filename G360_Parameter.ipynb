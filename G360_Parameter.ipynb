{
 "cells": [
  {
   "cell_type": "markdown",
   "id": "7b4ff516-ca8a-45ac-ba79-00512fd6d123",
   "metadata": {},
   "source": [
    "import math\n",
    "\n",
    "wxPython\n",
    "\n",
    "import wx"
   ]
  },
  {
   "cell_type": "code",
   "execution_count": 4,
   "id": "5938fb8c-734f-4886-af42-68e6f56c8ca8",
   "metadata": {},
   "outputs": [],
   "source": [
    "import math\n",
    "import numpy as np"
   ]
  },
  {
   "cell_type": "code",
   "execution_count": 1,
   "id": "02e47976-4b89-4945-b6d9-94054b86a7a5",
   "metadata": {},
   "outputs": [],
   "source": [
    "# FACTORES DE SEGURIDAD DE CHEQUEO\n",
    "FS_ARRANC = 1.5\n",
    "FS_DESLIZAM = 1.5\n",
    "FS_VOLCAM = 1.5\n",
    "\n",
    "# FACTORES DE SEGURIDAD ANTE REDUCCIÓN\n",
    "FS_FRICCION_EVENT = 1.3\n",
    "FS_COHESION_EVENT = 3\n",
    "FS_EMPUJE_EVENT = 3\n",
    "FS_FRICCION_PERM = 1.5\n",
    "FS_COHESION_PERM = 4\n",
    "FS_EMPUJE_PERM = 4\n",
    "\n",
    "# CHILE\n",
    "FS_MAYORAR_PERM = 1.5\n",
    "FS_MAYORAR_EVENT = 1.2\n",
    "PR = 0.1\n",
    "φ_cortante = 0.75\n",
    "φ_flexion = 0.90\n",
    "ρ_minima = 0.0018\n"
   ]
  },
  {
   "cell_type": "code",
   "execution_count": 5,
   "id": "5e1deaa3-045d-44db-8d6a-d9b437a53f84",
   "metadata": {},
   "outputs": [],
   "source": [
    "# PARÁMETROS \n",
    "FPRIMC = 21 #MPa\n",
    "CONCR = {'E':4700*math.sqrt(FPRIMC)}"
   ]
  },
  {
   "cell_type": "code",
   "execution_count": 1,
   "id": "c52bdb14-96ab-4e23-9ec6-76c73858cd11",
   "metadata": {},
   "outputs": [],
   "source": [
    "SUELOS_CHILE = {\n",
    "'1':{'C':0,   'phi':0,  'betha': 30, 'SueloArranc':20, 'SueloAplast': 23, 'ConcrArranc': 23, 'ConcrAplast':24, 'CapAdm': 2000, 'CapHztl':1500},\n",
    "'2':{'C':60,  'phi':35, 'betha': 40, 'SueloArranc':20, 'SueloAplast': 20, 'ConcrArranc': 23, 'ConcrAplast':24, 'CapAdm': 600,  'CapHztl':500},\n",
    "'3F':{'C':0,  'phi':35, 'betha': 30, 'SueloArranc':20, 'SueloAplast': 20, 'ConcrArranc': 23, 'ConcrAplast':24, 'CapAdm': 400,  'CapHztl':300},\n",
    "'4F':{'C':0,  'phi':30, 'betha': 30, 'SueloArranc':16, 'SueloAplast': 20, 'ConcrArranc': 23, 'ConcrAplast':24, 'CapAdm': 200,  'CapHztl':150},\n",
    "'4C':{'C':70, 'phi':0,  'betha': 30, 'SueloArranc':16, 'SueloAplast': 20, 'ConcrArranc': 23, 'ConcrAplast':24, 'CapAdm': 200,  'CapHztl':150},\n",
    "'5F':{'C':0,  'phi':35, 'betha': 40, 'SueloArranc':10, 'SueloAplast': 20, 'ConcrArranc': 13, 'ConcrAplast':24, 'CapAdm': 300,  'CapHztl':250},\n",
    "'5C':{'C':40, 'phi':30, 'betha': 40, 'SueloArranc':10, 'SueloAplast': 20, 'ConcrArranc': 13, 'ConcrAplast':24, 'CapAdm': 300,  'CapHztl':250},\n",
    "'6F':{'C':0,  'phi':30, 'betha': 30, 'SueloArranc':10, 'SueloAplast': 20, 'ConcrArranc': 13, 'ConcrAplast':24, 'CapAdm': 150,  'CapHztl':0},\n",
    "'6C':{'C':50, 'phi':0,  'betha': 30, 'SueloArranc':10, 'SueloAplast': 20, 'ConcrArranc': 13, 'ConcrAplast':24, 'CapAdm': 150,  'CapHztl':0},\n",
    "'7C':{'C':25, 'phi':0,  'betha': 20, 'SueloArranc':10, 'SueloAplast': 16, 'ConcrArranc': 13, 'ConcrAplast':24, 'CapAdm': 50,   'CapHztl':0}}"
   ]
  },
  {
   "cell_type": "code",
   "execution_count": 8,
   "id": "d861a842-d87d-40cd-8077-d3c0f2d0141d",
   "metadata": {},
   "outputs": [],
   "source": [
    "# TABLA DE BARRAS MILIMÉTRICAS\n",
    "BARRAS_mm = np.array([\n",
    "   #['Barra',  'Diam [mm]', 'Area [mm²]', 'w [kgf/m]', '6 db [mm]', 'ψs'],\n",
    "    ['No.3',     9.5,         70.9,         0.560,      57.0,        0.8],\n",
    "    ['No.4',    12.7,        126.7,         0.994,      76.2,        0.8],\n",
    "    ['No.5',    15.9,        198.6,         1.552,      95.4,        0.8],\n",
    "    ['No.6',    19.1,        286.5,         2.235,      114.6,       0.8],\n",
    "    ['No.7',    22.2,        387.1,         3.042,      133.2,       1.0],\n",
    "    ['No.8',    25.4,        506.7,         3.973,      152.4,       1.0],\n",
    "    ['No.9',    28.6,        641.4,         5.067,      171.45,      1.0],\n",
    "    ['No.10',   31.8,        791.8,         6.255,      190.5,       1.0],\n",
    "    ['No.11',   34.9,        958.0,         7.568,      209.55,      1.0]   ])"
   ]
  },
  {
   "cell_type": "code",
   "execution_count": null,
   "id": "5f07172c-4cad-4157-8917-c6b6835deaf8",
   "metadata": {},
   "outputs": [],
   "source": []
  }
 ],
 "metadata": {
  "kernelspec": {
   "display_name": "Python [conda env:base] *",
   "language": "python",
   "name": "conda-base-py"
  },
  "language_info": {
   "codemirror_mode": {
    "name": "ipython",
    "version": 3
   },
   "file_extension": ".py",
   "mimetype": "text/x-python",
   "name": "python",
   "nbconvert_exporter": "python",
   "pygments_lexer": "ipython3",
   "version": "3.12.7"
  }
 },
 "nbformat": 4,
 "nbformat_minor": 5
}
