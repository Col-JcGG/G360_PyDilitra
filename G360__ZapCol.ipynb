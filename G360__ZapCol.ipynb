{
 "cells": [
  {
   "cell_type": "code",
   "execution_count": 2,
   "id": "65675b78-94b0-48d0-aeee-7db7e679fd1f",
   "metadata": {},
   "outputs": [],
   "source": [
    "import numpy as np\n",
    "import math\n",
    "\n",
    "# FUNCIONES\n",
    "import nbimporter\n",
    "import G360_Function as func\n",
    "# import fff as func"
   ]
  },
  {
   "cell_type": "code",
   "execution_count": 2,
   "id": "146a0e71-ae1c-4454-b25c-0e90c76664bd",
   "metadata": {
    "editable": true,
    "jupyter": {
     "source_hidden": true
    },
    "slideshow": {
     "slide_type": ""
    },
    "tags": []
   },
   "outputs": [],
   "source": [
    "class FReaction(np.ndarray):\n",
    "    def __new__(cls, f_v, f_x=None, f_y=None):\n",
    "        if isinstance(f_v, list) and len(f_v) == 3:\n",
    "            obj = np.array(f_v, dtype=float).view(cls)\n",
    "        else:\n",
    "            obj = np.array([f_v, f_x, f_y], dtype=float).view(cls)\n",
    "        return obj\n",
    "\n",
    "    # def __init__(self, f_v, f_x = None, f_y = None):\n",
    "    #     if isinstance (f_v, list) and len(f_v) == 3:\n",
    "    #         self._lista_array = np.array(f_v)\n",
    "    #     else:        \n",
    "    #         self._lista_array = np.array([f_v, f_x, f_y])\n",
    "\n",
    "    def __str__(self):\n",
    "        return repr(self)\n",
    "\n",
    "    @property\n",
    "    def F_vert(self):\n",
    "        return self[0]\n",
    "\n",
    "    @property\n",
    "    def F_x_long(self):\n",
    "        return self[1]\n",
    "\n",
    "    @property\n",
    "    def F_y_transv(self):\n",
    "        return self[2]\n",
    "\n",
    "    # Sobrescribimos __getattr__ para ocultar los atributos de numpy\n",
    "    # def __getattr__(self, name):\n",
    "    #     if name in ['F_vert', 'F_long', 'F_transv']:\n",
    "    #         return super().__getattr__(name)\n",
    "    #     raise AttributeError(f\"'{type(self).__name__}' object has no attribute '{name}'\")\n",
    "\n",
    "    # # Sobrescribimos dir() para mostrar solo las propiedades que definimos\n",
    "    # def __dir__(self):\n",
    "    #     # Solo mostrar las propiedades definidas por nosotros, no las de numpy\n",
    "    #     return ['F_vert', 'F_long', 'F_transv']"
   ]
  },
  {
   "cell_type": "code",
   "execution_count": 3,
   "id": "5b0c9962-f7b4-46df-b8ab-6f44ca6440c7",
   "metadata": {
    "jupyter": {
     "source_hidden": true
    }
   },
   "outputs": [],
   "source": [
    "# eg REACCIONES\n",
    "FC = FReaction(-2,1,1)\n",
    "FT = FReaction(2,1,1)\n",
    "Fl = FReaction(1,2,1)\n",
    "Ft = FReaction(1,1,2)\n",
    "F_R = np.array([FC, FT, Fl, Ft])\n"
   ]
  },
  {
   "cell_type": "code",
   "execution_count": 4,
   "id": "5bcf10c4-81a3-4ad7-8ded-358f8fbd22c6",
   "metadata": {},
   "outputs": [],
   "source": [
    "# eg INPUTS PRELIMINARES\n",
    "input_Cohesion = 30\n",
    "input_Sigma_adm = 150\n",
    "input_Gamma_suelo = 16.5\n",
    "input_Phi = math.radians(30)\n",
    "\n",
    "#inputs opcionales\n",
    "inputOP_Betha = input_Phi *2/3\n",
    "inputOP_Gamma_concr = 24\n",
    "inputOP_Gamma_suelo_rell = input_Gamma_suelo\n",
    "inputOP_fy = 420\n",
    "inputOP_fprimac = 21"
   ]
  },
  {
   "cell_type": "code",
   "execution_count": null,
   "id": "21d1cc99-1ff1-42fe-8b9f-56efae14a580",
   "metadata": {},
   "outputs": [],
   "source": []
  },
  {
   "cell_type": "markdown",
   "id": "c36f5a0e-85ce-42fc-8767-d0d39614f7f8",
   "metadata": {},
   "source": [
    "### ZAPATA AISLADA"
   ]
  },
  {
   "cell_type": "code",
   "execution_count": null,
   "id": "1f11157a-d2d4-40c8-9171-d49dbe69c474",
   "metadata": {
    "editable": true,
    "scrolled": true,
    "slideshow": {
     "slide_type": ""
    },
    "tags": []
   },
   "outputs": [],
   "source": [
    "# 0 -> Cuadrado   1 -> Circular\n",
    "GeometriaPedestal = 0 \n",
    "\n",
    "class CimentacionZapata(): #PARA LA CUÑA, HACE FALTA ANG \\ALPHA Y DIMENSIÓN DE LA CUÑA\n",
    "    def __init__(self, AP_AlturaPedestal, P_Profundidad, A_Ancho, EP_EspesorPedestal, E_EspesorZap):\n",
    "        self._AP_AlturaPedestal = AP_AlturaPedestal\n",
    "        self._P_Profundidad = P_Profundidad\n",
    "        self._A_Ancho = A_Ancho\n",
    "        self._EP_EspesorPedestal = EP_EspesorPedestal\n",
    "        self._E_EspesorZap = E_EspesorZap\n",
    "        \n",
    "####\n",
    "# GEOMETRÍA Y CANTIDADES\n",
    "    def volumen_concr(self):\n",
    "        self._secc_ped = self._EP_EspesorPedestal**2 if GeometriaPedestal == 0 else math.pi * (self._EP_EspesorPedestal/2)**2\n",
    "        self._volumen_concr = self._A_Ancho**2 * self._E_EspesorZap + self._secc_ped * (self._AP_AlturaPedestal + self._P_Profundidad - self._E_EspesorZap)\n",
    "        return self._volumen_concr\n",
    "\n",
    "    def volumen_excavacion(self):\n",
    "        self._volumen_excavacion = self._A_Ancho**2 * self._P_Profundidad\n",
    "        return self._volumen_excavacion\n",
    "\n",
    "    def volumen_relleno(self):\n",
    "        self._volumen_relleno = self.volumen_excavacion() - (self.volumen_concr() - self._secc_ped * self._AP_AlturaPedestal)\n",
    "        return self._volumen_relleno\n",
    "\n",
    "    def volumen_cono(self):\n",
    "        self._R0_cono = self._P_Profundidad * math.tan(inputOP_Betha)\n",
    "        self._volumen_cono = func.troncopiramidal(self._A_Ancho**2, (self._A_Ancho + 2 * self._R0_cono)**2, self._P_Profundidad) - self.volumen_excavacion()\n",
    "        return self._volumen_cono"
   ]
  },
  {
   "cell_type": "code",
   "execution_count": 104,
   "id": "91f48cb7-9549-4689-8276-d9fca3ed6b0a",
   "metadata": {
    "editable": true,
    "slideshow": {
     "slide_type": ""
    },
    "tags": []
   },
   "outputs": [],
   "source": [
    "Z1 = CimentacionZapata(1,2,2,0.5,0.4)"
   ]
  },
  {
   "attachments": {
    "5f041ad4-7ebf-4a2c-a6e8-97178751b137.png": {
     "image/png": "[encoded data removed]"
    }
   },
   "cell_type": "markdown",
   "id": "64f1e234-69d8-4676-83d6-a22268f20c4d",
   "metadata": {},
   "source": [
    "![image.png](attachment:5f041ad4-7ebf-4a2c-a6e8-97178751b137.png)"
   ]
  },
  {
   "cell_type": "markdown",
   "id": "7cd8edda-2ea0-470a-a30f-8b5ccbe0c198",
   "metadata": {},
   "source": [
    "### ZAPATA CUÑA"
   ]
  },
  {
   "cell_type": "code",
   "execution_count": 8,
   "id": "0b5576e2-a4bd-4d81-923e-7768bdc6cf63",
   "metadata": {
    "editable": true,
    "slideshow": {
     "slide_type": ""
    },
    "tags": []
   },
   "outputs": [],
   "source": [
    "class CimentacionCunha(): #PARA LA CUÑA, HACE FALTA ANG \\ALPHA Y DIMENSIÓN DE LA CUÑA\n",
    "    def __init__(self, AP_AlturaPedestal, P_Profundidad, A_Ancho, EP_EspesorPedestal, E_EspesorZap, Hy_DesnivelIncl, Hx_DesnivelIncl = None, Alpha_AngIncl = None):\n",
    "        self._AP_AlturaPedestal = AP_AlturaPedestal\n",
    "        self._P_Profundidad = P_Profundidad\n",
    "        self._A_Ancho = A_Ancho\n",
    "        self._EP_EspesorPedestal = EP_EspesorPedestal\n",
    "        self._E_EspesorZap = E_EspesorZap\n",
    "        self._Hy_DesnivelIncl = Hy_DesnivelIncl\n",
    "        \n",
    "        # OPCIONALES\n",
    "        self._Alpha_AngIncl = math.radians(60) if Alpha_AngIncl == None else math.radians(Alpha_AngIncl) #rads\n",
    "        if Hx_DesnivelIncl == None:\n",
    "            self._Hx_DesnivelIncl = func.mround_down( self._Hy_DesnivelIncl/math.tan(self._Alpha_AngIncl) , 5/100) - 5/100 #Redondear hacia abajo en multiplos de 5 cm\n",
    "        \n",
    "\n",
    "\n",
    "    \n",
    "####\n",
    "# GEOMETRÍA Y CANTIDADES\n",
    "    def volumen_concr(self):\n",
    "\n",
    "\n",
    "    def volumen_excavacion(self):\n",
    "\n",
    "\n",
    "    def volumen_relleno(self):\n",
    "\n",
    "\n",
    "    def volumen_cono(self):\n"
   ]
  },
  {
   "cell_type": "code",
   "execution_count": null,
   "id": "ab598de4-7069-4f4c-adea-a638f433b95f",
   "metadata": {},
   "outputs": [],
   "source": []
  },
  {
   "cell_type": "code",
   "execution_count": 67,
   "id": "d4a46dd1-47a1-4757-ba8a-b85b2bdbd52c",
   "metadata": {},
   "outputs": [
    {
     "data": {
      "text/plain": [
       "array([-2.,  1.,  1.])"
      ]
     },
     "execution_count": 67,
     "metadata": {},
     "output_type": "execute_result"
    }
   ],
   "source": [
    "class ChequeosCol:\n",
    "    def __init__():"
   ]
  },
  {
   "cell_type": "code",
   "execution_count": null,
   "id": "a1f0e6fa-3fcc-4bd4-b3f7-f75d1a17af5a",
   "metadata": {},
   "outputs": [],
   "source": [
    "#################"
   ]
  },
  {
   "cell_type": "code",
   "execution_count": 2,
   "id": "30b263b7-f25d-49b5-a8ee-cfe9de38d72f",
   "metadata": {},
   "outputs": [
    {
     "data": {
      "text/plain": [
       "4.414213562373095"
      ]
     },
     "execution_count": 2,
     "metadata": {},
     "output_type": "execute_result"
    }
   ],
   "source": []
  },
  {
   "cell_type": "code",
   "execution_count": 42,
   "id": "40a15767-0d3b-4bbb-9235-ca0ddd1eb1c8",
   "metadata": {},
   "outputs": [
    {
     "name": "stdout",
     "output_type": "stream",
     "text": [
      "Name: nbimporter\n",
      "Version: 0.3.4\n",
      "Summary: Import IPython notebooks as modules\n",
      "Home-page: https://github.com/grst/nbimporter\n",
      "Author: Gregor Sturm\n",
      "Author-email: mail@gregor-sturm.de\n",
      "License: BSD 3-clause\n",
      "Location: /home/f47934b4-a8d3-46f1-92a2-2253cc72f02e/.local/lib/python3.11/site-packages\n",
      "Requires: \n",
      "Required-by: \n"
     ]
    }
   ],
   "source": [
    "# !pip install nbimporter\n",
    "!pip show nbimporter"
   ]
  },
  {
   "cell_type": "code",
   "execution_count": 3,
   "id": "7a790eeb-f27a-4281-990f-b121a458bc37",
   "metadata": {
    "collapsed": true,
    "jupyter": {
     "outputs_hidden": true
    }
   },
   "outputs": [
    {
     "ename": "NameError",
     "evalue": "name 'troncopiramidal' is not defined",
     "output_type": "error",
     "traceback": [
      "\u001b[0;31m---------------------------------------------------------------------------\u001b[0m",
      "\u001b[0;31mNameError\u001b[0m                                 Traceback (most recent call last)",
      "Cell \u001b[0;32mIn[3], line 4\u001b[0m\n\u001b[1;32m      1\u001b[0m \u001b[38;5;28;01mimport\u001b[39;00m \u001b[38;5;21;01mnbimporter\u001b[39;00m\n\u001b[1;32m      2\u001b[0m \u001b[38;5;28;01mimport\u001b[39;00m \u001b[38;5;21;01mG360_Function\u001b[39;00m \u001b[38;5;28;01mas\u001b[39;00m \u001b[38;5;21;01mfunc\u001b[39;00m\n\u001b[0;32m----> 4\u001b[0m troncopiramidal(\u001b[38;5;241m1\u001b[39m,\u001b[38;5;241m1\u001b[39m,\u001b[38;5;241m5\u001b[39m)\n",
      "\u001b[0;31mNameError\u001b[0m: name 'troncopiramidal' is not defined"
     ]
    }
   ],
   "source": [
    "np."
   ]
  },
  {
   "cell_type": "code",
   "execution_count": null,
   "id": "1fa60c2a-02e6-45aa-a3a0-684b26fa523a",
   "metadata": {},
   "outputs": [],
   "source": []
  },
  {
   "cell_type": "code",
   "execution_count": 23,
   "id": "30f6638e-8330-48a8-b275-8b0a33a29adb",
   "metadata": {},
   "outputs": [
    {
     "data": {
      "text/plain": [
       "0.9999999999999999"
      ]
     },
     "execution_count": 23,
     "metadata": {},
     "output_type": "execute_result"
    }
   ],
   "source": [
    "math.tan(math.radians(45))"
   ]
  },
  {
   "cell_type": "code",
   "execution_count": 20,
   "id": "f6289772-c370-4b51-a496-417fa26bfc69",
   "metadata": {},
   "outputs": [
    {
     "data": {
      "text/plain": [
       "57.29577951308232"
      ]
     },
     "execution_count": 20,
     "metadata": {},
     "output_type": "execute_result"
    }
   ],
   "source": [
    "math.degrees(1)"
   ]
  },
  {
   "cell_type": "code",
   "execution_count": 22,
   "id": "93f5cf98-27ab-477a-b6ac-5806a7014234",
   "metadata": {},
   "outputs": [
    {
     "data": {
      "text/plain": [
       "57.29577951308232"
      ]
     },
     "execution_count": 22,
     "metadata": {},
     "output_type": "execute_result"
    }
   ],
   "source": [
    "180/math.pi"
   ]
  },
  {
   "cell_type": "code",
   "execution_count": 7,
   "id": "249fc837-abd1-429c-9447-1274d691f5c1",
   "metadata": {},
   "outputs": [
    {
     "data": {
      "text/plain": [
       "3.656"
      ]
     },
     "execution_count": 7,
     "metadata": {},
     "output_type": "execute_result"
    }
   ],
   "source": [
    "func.round_down(3.657, 3)"
   ]
  },
  {
   "cell_type": "code",
   "execution_count": null,
   "id": "6791b537-0cb5-4b4e-b57f-866c2b2e7b5d",
   "metadata": {
    "editable": true,
    "slideshow": {
     "slide_type": ""
    },
    "tags": []
   },
   "outputs": [],
   "source": []
  }
 ],
 "metadata": {
  "kernelspec": {
   "display_name": "Python 3 (ipykernel)",
   "language": "python",
   "name": "python3"
  },
  "language_info": {
   "codemirror_mode": {
    "name": "ipython",
    "version": 3
   },
   "file_extension": ".py",
   "mimetype": "text/x-python",
   "name": "python",
   "nbconvert_exporter": "python",
   "pygments_lexer": "ipython3",
   "version": "3.12.7"
  }
 },
 "nbformat": 4,
 "nbformat_minor": 5
}
