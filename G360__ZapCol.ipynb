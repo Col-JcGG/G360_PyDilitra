{
 "cells": [
  {
   "cell_type": "code",
   "execution_count": 1,
   "id": "65675b78-94b0-48d0-aeee-7db7e679fd1f",
   "metadata": {},
   "outputs": [],
   "source": [
    "import numpy as np\n",
    "import math\n",
    "\n",
    "# FUNCIONES\n",
    "# !pip install import_ipynb\n",
    "# !pip show import_ipynb\n",
    "import import_ipynb\n",
    "import G360_Function as func # Assuming G360_Function.ipynb is in the same directory\n",
    "\n",
    "import G360_Parameter as param\n",
    "\n",
    "# !pip install nbimporter\n",
    "# !pip show nbimporter\n",
    "    # import nbimporter\n",
    "    # import G360_Function as func\n",
    "# import fff as func"
   ]
  },
  {
   "cell_type": "code",
   "execution_count": 3,
   "id": "146a0e71-ae1c-4454-b25c-0e90c76664bd",
   "metadata": {
    "editable": true,
    "slideshow": {
     "slide_type": ""
    },
    "tags": []
   },
   "outputs": [],
   "source": [
    "# FORMATO PARA MANEJO DE VECTORES\n",
    "class FReaction(np.ndarray):\n",
    "    def __new__(cls, f_v, f_x=None, f_y=None):\n",
    "        if (f_x != None) & (f_y != None):\n",
    "            obj = np.array([f_v, f_x, f_y], dtype=float).view(cls)\n",
    "        else:\n",
    "            obj = np.array(f_v, dtype=float).view(cls)\n",
    "        return obj\n",
    "\n",
    "    # def __init__(self, f_v, f_x = None, f_y = None):\n",
    "    #     if isinstance (f_v, list) and len(f_v) == 3:\n",
    "    #         self._lista_array = np.array(f_v)\n",
    "    #     else:        \n",
    "    #         self._lista_array = np.array([f_v, f_x, f_y])\n",
    "\n",
    "    def __str__(self):\n",
    "        return repr(self)\n",
    "\n",
    "    @property\n",
    "    def F_vert(self):\n",
    "        return self[0]\n",
    "\n",
    "    @property\n",
    "    def F_x_long(self):\n",
    "        return self[1]\n",
    "\n",
    "    @property\n",
    "    def F_y_transv(self):\n",
    "        return self[2]\n",
    "\n",
    "    # Sobrescribimos __getattr__ para ocultar los atributos de numpy\n",
    "    # def __getattr__(self, name):\n",
    "    #     if name in ['F_vert', 'F_long', 'F_transv']:\n",
    "    #         return super().__getattr__(name)\n",
    "    #     raise AttributeError(f\"'{type(self).__name__}' object has no attribute '{name}'\")\n",
    "\n",
    "    # # Sobrescribimos dir() para mostrar solo las propiedades que definimos\n",
    "    # def __dir__(self):\n",
    "    #     # Solo mostrar las propiedades definidas por nosotros, no las de numpy\n",
    "    #     return ['F_vert', 'F_long', 'F_transv']\n",
    "\n",
    "\n",
    "#═══#═══#═══#═══#═══#═══#═══#═══#═══#═══#═══#═══#═══#═══#═══#═══#═══#═══#═══#═══#═══#═══#═══#═══#═══#═══#═══#═══#═══#═══#\n",
    "# eg REACCIONES\n",
    "#DIAGONAL DIR PATA\n",
    "FC_diag = [-800, +12, +23]\n",
    "FT_diag = [+650, -15, +10]\n",
    "Fl_diag = [+000, +30, -20]\n",
    "Ft_diag = [+200, -10, -35]\n",
    "FR_diag = FReaction([FC_diag, FT_diag, Fl_diag, Ft_diag])\n",
    "\n",
    "#ORTOGONAL\n",
    "FC_ort = [-730, +25, +50]\n",
    "FT_ort = [+600, -30, +20]\n",
    "Fl_ort = [+000, +60, -40]\n",
    "Ft_ort = [+150, -20, -70]\n",
    "FR_ort = FReaction([FC_ort, FT_ort, Fl_ort, Ft_ort])"
   ]
  },
  {
   "cell_type": "markdown",
   "id": "c36f5a0e-85ce-42fc-8767-d0d39614f7f8",
   "metadata": {},
   "source": [
    "### ZAPATA AISLADA"
   ]
  },
  {
   "cell_type": "code",
   "execution_count": 5,
   "id": "5bcf10c4-81a3-4ad7-8ded-358f8fbd22c6",
   "metadata": {},
   "outputs": [],
   "source": [
    "# eg INPUTS PRELIMINARES\n",
    "input_Cohesion = 30\n",
    "input_Sigma_adm = 150\n",
    "input_Gamma_suelo = 16.2\n",
    "# input_Gamma_suelo_arranc = input_Gamma_suelo\n",
    "input_Phi = math.radians(30)\n",
    "input_Comportamiento_suelo = 'GRANULAR' # GRANULAR O COHESIVO\n",
    "\n",
    "#inputs opcionales\n",
    "inputOP_Betha = input_Phi *2/3\n",
    "inputOP_Gamma_concr = 24\n",
    "# inputOP_Gamma_concr_arranc = inputOP_Gamma_concr\n",
    "inputOP_Gamma_suelo_rell = input_Gamma_suelo\n",
    "inputOP_fy = 420\n",
    "inputOP_fprimac = 21\n",
    "inputOP_Prof_Desprecio = 0.6\n",
    "inputOP_recub_ped = 5/100\n",
    "inputOP_recub_disenho = 5/100\n",
    "input_pedestales_lista = [0.25, 0.5, 0.75, 1]\n",
    "\n",
    "#═══#═══#═══#═══#═══#═══#═══#═══#═══#═══#═══#═══#═══#═══#═══#═══#═══#═══#═══#═══#═══#═══#═══#═══#═══#═══#═══#═══#═══#═══#\n",
    "# OBJETO PARA CIMENTACIÓN TIPO ZAPATA AISLADA\n",
    "# 0 -> Cuadrado   1 -> Circular\n",
    "GeometriaPedestal = 0 \n",
    "\n",
    "class CimentacionZapata(): #PARA LA CUÑA, HACE FALTA ANG \\ALPHA Y DIMENSIÓN DE LA CUÑA\n",
    "    def __init__(self, AP_AlturaPedestal, P_Profundidad, A_Ancho, EP_EspesorPedestal, E_EspesorZap):\n",
    "        self._AP_AlturaPedestal = AP_AlturaPedestal\n",
    "        self._P_Profundidad = P_Profundidad\n",
    "        self._A_Ancho = A_Ancho\n",
    "        self._EP_EspesorPedestal = EP_EspesorPedestal\n",
    "        self._E_EspesorZap = E_EspesorZap\n",
    "\n",
    "####\n",
    "# PROPIEDADES\n",
    "    @property\n",
    "    def g_prof_pedestal(self):\n",
    "        return self._P_Profundidad - self._E_EspesorZap\n",
    "    @property\n",
    "    def g_prof_zapata(self):\n",
    "        return self._P_Profundidad\n",
    "        \n",
    "    @property\n",
    "    def g_ancho_pedestal(self):\n",
    "        return self._EP_EspesorPedestal\n",
    "    @property\n",
    "    def g_ancho_zapata(self):\n",
    "        return self._A_Ancho\n",
    "\n",
    "    @property\n",
    "    def g_esp_zapta(self):\n",
    "        return self._E_EspesorZap    \n",
    "\n",
    "\n",
    "\n",
    "\n",
    "    \n",
    "####\n",
    "# GEOMETRÍA Y CANTIDADES\n",
    "    def volumen_concr(self):\n",
    "        self._secc_ped = self._EP_EspesorPedestal**2 if GeometriaPedestal == 0 else math.pi * (self._EP_EspesorPedestal/2)**2\n",
    "        self._volumen_concr = self._A_Ancho**2 * self._E_EspesorZap + self._secc_ped * (self._AP_AlturaPedestal + self._P_Profundidad - self._E_EspesorZap)\n",
    "        return self._volumen_concr\n",
    "\n",
    "    def volumen_excavacion(self):\n",
    "        self._volumen_excavacion = self._A_Ancho**2 * self._P_Profundidad\n",
    "        return self._volumen_excavacion\n",
    "\n",
    "    def volumen_relleno(self):\n",
    "        self._volumen_relleno = self.volumen_excavacion() - (self.volumen_concr() - self._secc_ped * self._AP_AlturaPedestal)\n",
    "        return self._volumen_relleno\n",
    "\n",
    "    # def volumen_suelo_aportante(self):\n",
    "    #     return self.volumen_relleno()\n",
    "\n",
    "    def volumen_cono(self):\n",
    "        self._R0_cono = self._P_Profundidad * math.tan(inputOP_Betha)\n",
    "        self._volumen_cono = func.troncopiramidal(self._A_Ancho**2, \n",
    "                                                  (self._A_Ancho + 2 * self._R0_cono)**2, \n",
    "                                                  self._P_Profundidad) - ( self._A_Ancho**2 * self._P_Profundidad)\n",
    "        return self._volumen_cono"
   ]
  },
  {
   "attachments": {
    "5f041ad4-7ebf-4a2c-a6e8-97178751b137.png": {
     "image/png": "[encoded data removed]"
    }
   },
   "cell_type": "markdown",
   "id": "64f1e234-69d8-4676-83d6-a22268f20c4d",
   "metadata": {},
   "source": [
    "![image.png](attachment:5f041ad4-7ebf-4a2c-a6e8-97178751b137.png)"
   ]
  },
  {
   "cell_type": "code",
   "execution_count": 7,
   "id": "91f48cb7-9549-4689-8276-d9fca3ed6b0a",
   "metadata": {
    "editable": true,
    "slideshow": {
     "slide_type": ""
    },
    "tags": []
   },
   "outputs": [],
   "source": [
    "_A = 2.4\n",
    "_P = 3\n",
    "_AP  = 1\n",
    "_EP = .5\n",
    "_E = .4\n",
    "\n",
    "z1 = CimentacionZapata(_AP, _P, _A, _EP, _E)"
   ]
  },
  {
   "cell_type": "markdown",
   "id": "7cd8edda-2ea0-470a-a30f-8b5ccbe0c198",
   "metadata": {
    "jp-MarkdownHeadingCollapsed": true
   },
   "source": [
    "### ZAPATA CUÑA"
   ]
  },
  {
   "cell_type": "code",
   "execution_count": 59,
   "id": "9b4f03ea-0931-4503-887b-29b61999631e",
   "metadata": {},
   "outputs": [],
   "source": [
    "# IMPORTADO PARA SUELOS EN LA CLASIFICIACIÓN DENTRANSELEC\n",
    "tipo_de_suelo = '2'\n",
    "dic_suelo = param.SUELOS_CHILE[str(tipo_de_suelo)]\n",
    "\n",
    "#═══#═══#═══#═══#═══#═══#═══#═══#═══#═══#═══#═══#═══#═══#═══#═══#═══#═══#═══#═══#═══#═══#═══#═══#═══#═══#═══#═══#═══#═══#\n",
    "input_Cohesion = dic_suelo['C']\n",
    "input_Sigma_adm = dic_suelo['CapAdm']\n",
    "input_Gamma_suelo = dic_suelo['SueloAplast']\n",
    "input_Gamma_suelo_arranc = dic_suelo['SueloArranc']\n",
    "input_Phi = math.radians(dic_suelo['phi'])\n",
    "\n",
    "#inputs opcionales\n",
    "inputOP_Betha = math.radians(dic_suelo['betha'])\n",
    "inputOP_Gamma_concr = dic_suelo['ConcrAplast']\n",
    "inputOP_Gamma_concr_arranc = dic_suelo['ConcrArranc']\n",
    "inputOP_Gamma_suelo_rell = input_Gamma_suelo\n",
    "inputOP_fy = 420\n",
    "inputOP_fprimac = 21\n",
    "inputOP_Prof_Desprecio = 0.6\n",
    "inputOP_recub_ped = 5/100\n",
    "inputOP_recub_disenho = 5/100\n",
    "input_pedestales_lista = [0.25, 0.5, 0.75, 1]\n",
    "\n",
    "#═══#═══#═══#═══#═══#═══#═══#═══#═══#═══#═══#═══#═══#═══#═══#═══#═══#═══#═══#═══#═══#═══#═══#═══#═══#═══#═══#═══#═══#═══#\n",
    "# OBJETO PARA CIMENTACIÓN ZAPATA TIPO CUÑA\n",
    "\n",
    "class CimentacionCunha():\n",
    "    def __init__(self, AP_AlturaPedestal, P_Profundidad, A_Ancho, EP_EspesorPedestal, E_EspesorZap, Hy_DesnivelIncl, \n",
    "                 Hx_DesnivelIncl = None, Alpha_AngIncl = None, F_ProfundidadCunha = None, Cunha = None):\n",
    "        self._AP_AlturaPedestal = AP_AlturaPedestal\n",
    "        self._P_Profundidad = P_Profundidad\n",
    "        self._A_Ancho = A_Ancho\n",
    "        self._EP_EspesorPedestal = EP_EspesorPedestal\n",
    "        self._E_EspesorZap = E_EspesorZap\n",
    "        self._Hy_DesnivelIncl = Hy_DesnivelIncl\n",
    "        \n",
    "        # DEFINICIÓN DE VARIABLES OPCIONALES\n",
    "        self._Alpha_AngIncl = math.radians(60) if Alpha_AngIncl == None else math.radians(Alpha_AngIncl) #rads\n",
    "        if Hx_DesnivelIncl == None:\n",
    "            self._Hx_DesnivelIncl = func.mround_down( self._Hy_DesnivelIncl/math.tan(self._Alpha_AngIncl) , 5/100) #Redondear hacia abajo en multiplos de 5 cm\n",
    "        else:\n",
    "            self._Hx_DesnivelIncl = Hx_DesnivelIncl\n",
    "            self._Alpha_AngIncl = math.atan(self._Hy_DesnivelIncl / self._Hx_DesnivelIncl)\n",
    "\n",
    "        self._F_ProfundidadCunha = 0.3 if F_ProfundidadCunha == None else F_ProfundidadCunha\n",
    "\n",
    "        # VARIABLES CALCULADAS\n",
    "        self._EPinf_EspesorPedestal_inf = self._A_Ancho  - 2*self._Hx_DesnivelIncl\n",
    "        self._Cunha_OP = ( self._EPinf_EspesorPedestal_inf - self._EP_EspesorPedestal) - func.proporcion(self._EPinf_EspesorPedestal_inf - self._EP_EspesorPedestal,\n",
    "                                                                                                      max(input_pedestales_lista) + self._F_ProfundidadCunha + ( self._P_Profundidad - self._F_ProfundidadCunha)/3,\n",
    "                                                                                                      max(input_pedestales_lista) + self._F_ProfundidadCunha)\n",
    "        self._Cunha_OP = max(func.mround_down(self._Cunha_OP, 0.05), 10/100)\n",
    "        self._Cunha = self._Cunha_OP if (Cunha == None) else Cunha\n",
    "        self._Cunha_nvl_terreno = func.proporcion(self._EPinf_EspesorPedestal_inf - self._EP_EspesorPedestal - self._Cunha,\n",
    "                                                 self._AP_AlturaPedestal + self._F_ProfundidadCunha,\n",
    "                                                 self._AP_AlturaPedestal)\n",
    "        \n",
    "            \n",
    "####\n",
    "# GEOMETRÍA Y CANTIDADES\n",
    "    def volumen_concr(self):\n",
    "        self._v_losa = self._A_Ancho**2 * self._E_EspesorZap\n",
    "        self._v_Incl = func.troncopiramidal(self._A_Ancho**2, self._EPinf_EspesorPedestal_inf**2, self._Hy_DesnivelIncl)\n",
    "        self._v_cunha = self._EPinf_EspesorPedestal_inf**2 * (self._P_Profundidad - self._F_ProfundidadCunha - self._Hy_DesnivelIncl - self._E_EspesorZap)\n",
    "        self._v_ped_cunha = func.troncopiramidal(self._EP_EspesorPedestal**2 , (self._EPinf_EspesorPedestal_inf - self._Cunha)**2, self._AP_AlturaPedestal + self._F_ProfundidadCunha)\n",
    "        return self._v_losa + self._v_Incl + self._v_cunha + self._v_ped_cunha\n",
    "\n",
    "    def volumen_excavacion(self):\n",
    "        if self._Alpha_AngIncl >= math.radians(60):\n",
    "            self._v_losa = self._A_Ancho**2 * self._E_EspesorZap\n",
    "            self._v_Incl = func.troncopiramidal(self._A_Ancho**2, self._EPinf_EspesorPedestal_inf**2, self._Hy_DesnivelIncl)\n",
    "            self._v_cunha = self._EPinf_EspesorPedestal_inf**2 * (self._P_Profundidad  - self._Hy_DesnivelIncl - self._E_EspesorZap)\n",
    "            return self._v_losa + self._v_Incl + self._v_cunha\n",
    "        else:\n",
    "            return self._A_Ancho**2 * self._P_Profundidad\n",
    "            \n",
    "    def volumen_relleno(self):\n",
    "        self._v_concr_enterrado = self.volumen_concr()- func.troncopiramidal(self._EP_EspesorPedestal**2, (self._EP_EspesorPedestal + self._Cunha_nvl_terreno)**2, self._AP_AlturaPedestal)\n",
    "        return self.volumen_excavacion() - self._v_concr_enterrado\n",
    "\n",
    "    def volumen_suelo_aportante(self):\n",
    "        self.volumen_relleno()\n",
    "        return (self._A_Ancho**2 * self._P_Profundidad) - self._v_concr_enterrado\n",
    "\n",
    "    def volumen_cono(self):\n",
    "        self._R0_cono = self._P_Profundidad * math.tan(inputOP_Betha)\n",
    "        return func.troncopiramidal(self._A_Ancho**2,\n",
    "                                   (self._A_Ancho + 2*self._R0_cono)**2,\n",
    "                                   self._P_Profundidad) - (self._A_Ancho**2 * self._P_Profundidad)"
   ]
  },
  {
   "cell_type": "code",
   "execution_count": 61,
   "id": "ab598de4-7069-4f4c-adea-a638f433b95f",
   "metadata": {},
   "outputs": [],
   "source": [
    "_A = 2.4\n",
    "_P = 3\n",
    "_AP  = 1\n",
    "_EP = .5\n",
    "_E = .4\n",
    "_Hy = 0.5\n",
    "# _Hx = None, _Alpha = None\n",
    "\n",
    "z2 = CimentacionCunha(_AP, _P, _A, _EP, _E, _Hy)"
   ]
  },
  {
   "cell_type": "markdown",
   "id": "e64bb1f3-fea1-43ae-bdae-4f0fd0459ee4",
   "metadata": {},
   "source": [
    "### CHEQUEOS"
   ]
  },
  {
   "cell_type": "code",
   "execution_count": 143,
   "id": "bb168fb3-da1a-45b8-a1a1-4375d77a5e00",
   "metadata": {},
   "outputs": [],
   "source": [
    "# OBJETO PARA LOS CHEQUEOS UNIVERSALES EN LAS ZAPATAS\n",
    "class ChequeoZapataACI(): # SE INGRESA EL OBJETO Y OBJETOS FReaction\n",
    "    def __init__(self, Obj_Zap, reaccion_ortogonal, reaccion_diagonal):\n",
    "        self._obj_Zap = Obj_Zap #obj\n",
    "        self._ort =  func.abs_vectores(reaccion_ortogonal) #F([])\n",
    "        self._diag = func.abs_vectores(reaccion_diagonal)  #F([])\n",
    "\n",
    "        #REACCIONES VERTICALES\n",
    "        self._peso_concreto = - np.array([self._obj_Zap.volumen_concr(), 0, 0]) * inputOP_Gamma_concr #[]\n",
    "        self._peso_suelo = -(np.array([self._obj_Zap.volumen_relleno(), 0, 0]) +  \n",
    "                            self._obj_Zap.volumen_cono() * func.casos_traccion(self._ort) ) * inputOP_Gamma_suelo_rell # ([])\n",
    "\n",
    "        self._ort_RT = (self._ort +   # REACCIONES\n",
    "                        self._peso_concreto  + # CONCRETO\n",
    "                        self._peso_suelo ) # SUELO  # F([])\n",
    "\n",
    "        \n",
    "        # REACCIONES HORIZONTALES\n",
    "        self._empuje_pasivo_ped  = func.empuje_pasivo(input_Gamma_suelo * z1.g_prof_pedestal, 0, \n",
    "                                                 z1.g_prof_pedestal * z1.g_ancho_pedestal, 3)/param.FS_EMPUJE_PERM  # EMPUJE PEDESTAL\n",
    "        self._empuje_pasivo_ped  = np.array([0, self._empuje_pasivo_ped, self._empuje_pasivo_ped]) #[]\n",
    "        self._empuje_pasivo_losa = func.empuje_pasivo(input_Gamma_suelo * z1.g_prof_pedestal, input_Gamma_suelo * z1.g_prof_zapata,\n",
    "                                                 z1.g_esp_zapta * z1.g_ancho_zapata, 3)/param.FS_EMPUJE_PERM  # EMPUJE LOSA INF\n",
    "        self._empuje_pasivo_losa = np.array([0, self._empuje_pasivo_losa, self._empuje_pasivo_losa]) #[]\n",
    "\n",
    "        \n",
    "        self._friccion_base = -self._ort_RT[:,0] * math.tan(input_Phi)/param.FS_FRICCION_PERM\n",
    "        self._friccion_base = np.array([[0,0,0,0], self._friccion_base, self._friccion_base  ]).T #([])\n",
    "        self._cohesion_base = self._obj_Zap.g_ancho_zapata **2 * input_Cohesion / param.FS_COHESION_PERM\n",
    "        self._cohesion_base = np.array([0, self._cohesion_base, self._cohesion_base]) #[]\n",
    "        self._reaccion_base = self._friccion_base if input_Comportamiento_suelo == 'GRANULAR' else self._cohesion_base \n",
    "\n",
    "        self._ort_RT = (self._ort   * np.array([1,-1,-1])+   # REACCIONES\n",
    "                        self._empuje_pasivo_ped + self._empuje_pasivo_losa  + # EMPUJE PASIVO DEL SUELO\n",
    "                        self._reaccion_base ) # APORTE POR FRICCION Y COHESIÓN   # F([])\n",
    "        \n",
    "####\n",
    "# CHEQUEOS PARA TRACCIÓN\n",
    "    def FS_arranc(self):\n",
    "        _fuerzas_traccion = self._ort * func.casos_traccion(self._ort) #F([])\n",
    "        return [\"comp\" if self._ort[i].F_vert <= 0 else abs(self._ort_RT[i].F_vert - _fuerzas_traccion[i].F_vert)/_fuerzas_traccion[i].F_vert for i in range(4)]\n",
    "    def FS_arranc_Boole(self):\n",
    "        return func.min_(self.FS_arranc()) >= param.FS_ARRANC\n",
    "#\n",
    "    def FS_vuelco(self):\n",
    "        1\n",
    "    def FS_vuelco_Boole(self):\n",
    "        1\n",
    "#\n",
    "    def FS_deslizamiento(self):\n",
    "        _reacciones_fx_fy = self._ort_RT[:, (1,2)]\n",
    "        _minima_reaccion_fx_fy = min([j for i in _reacciones_fx_fy for j in i])\n",
    "        if _minima_reaccion_fx_fy == 0:\n",
    "            return [param.FS_DESLIZAM for i in range(4)]\n",
    "        elif _minima_reaccion_fx_fy < 0:\n",
    "            return [0 for i in range(4)]\n",
    "        else:\n",
    "            _FS_matriz = (self._ort_RT + self._ort)[:, (1,2)] / (self._ort)[:, (1,2)]\n",
    "            return [min(i) for i in _FS_matriz]\n",
    "    def FS_deslizamiento_Boole(self):\n",
    "        return func.min_(self.FS_deslizamiento()) >= param.FS_DESLIZAM\n",
    "\n",
    "Disenho = ChequeoZapataACI(z1, FR_ort, FR_diag)"
   ]
  },
  {
   "cell_type": "markdown",
   "id": "1dc98739-10cd-40ae-9108-c77fc756e963",
   "metadata": {},
   "source": [
    "`Suelo aportante para casos a tracción:`\n",
    "\n",
    "\\begin{align}\n",
    "{Traccion} & = Relleno + Cono \\\\\n",
    "{Compresion} & = Relleno\n",
    "\\end{align}\n",
    "\n",
    "`def FS_arranc(self):`\n",
    "\n",
    "\\begin{align}\n",
    "R = (-F↑) + F↑ & \\\\\n",
    "\\dfrac{F↓}{F↑} & \\ge 1.5 \\\\\n",
    "\\dfrac{(-F↑)}{F↑} & \\le 1.5 \\\\\n",
    "\\dfrac{R - F↑}{F↑} & \\le 1.5 \n",
    "\\end{align}\n",
    "\n",
    "$(-F↑)$ = Fuerzas a compresión (Suelo y concreto)\n",
    "\n",
    "$F↑$ = Reacción vertical\n",
    "\n",
    "`FS_deslizamiento`\n",
    "\\begin{align}\n",
    "R = (F_{kp} + F_{base}) + F_{x, y} & \\\\\n",
    "\\dfrac{F_{resistentes}}{F_{horizontales}} & \\ge 1.5 \\\\\n",
    "\\dfrac{R - F_{x, y}}{F_{x, y}} & \\ge 1.5\n",
    "\\end{align}\n",
    "\n",
    "\n",
    "\n",
    "$F_{kp}$  Resistencia del empuje pasivo del suelo\n",
    "\n",
    "$F_{base}$ Reacción en la base generada por la fricción o cohesión"
   ]
  },
  {
   "cell_type": "code",
   "execution_count": 145,
   "id": "66ef83a8-8d84-4f4e-93aa-8f63d35e9d8e",
   "metadata": {},
   "outputs": [
    {
     "data": {
      "text/plain": [
       "[9.061904214691781, 2.298570592921061, 2.8686346621495202, 3.459459979207422]"
      ]
     },
     "execution_count": 145,
     "metadata": {},
     "output_type": "execute_result"
    }
   ],
   "source": [
    "Disenho.FS_deslizamiento()"
   ]
  },
  {
   "cell_type": "code",
   "execution_count": 147,
   "id": "ad903e84-abaa-4c1c-8116-185a94909a17",
   "metadata": {},
   "outputs": [
    {
     "data": {
      "text/plain": [
       "True"
      ]
     },
     "execution_count": 147,
     "metadata": {},
     "output_type": "execute_result"
    }
   ],
   "source": [
    "Disenho.FS_deslizamiento_Boole()"
   ]
  },
  {
   "cell_type": "code",
   "execution_count": 127,
   "id": "8f688c33-fa96-4416-9395-7c267620ae92",
   "metadata": {},
   "outputs": [
    {
     "data": {
      "text/plain": [
       "2.298570592921061"
      ]
     },
     "execution_count": 127,
     "metadata": {},
     "output_type": "execute_result"
    }
   ],
   "source": [
    "qq = (Disenho._ort_RT + Disenho._ort)[:, (1,2)] / (Disenho._ort)[:, (1,2)]\n",
    "# [min(i.F_x_long, i.F_y_transv) for i in _FS_matriz]\n",
    "qq\n",
    "min([j for i in qq for j in i])"
   ]
  },
  {
   "cell_type": "code",
   "execution_count": 90,
   "id": "0c70c3da-2f83-4ae5-a255-bd69e6f430e0",
   "metadata": {},
   "outputs": [
    {
     "data": {
      "text/plain": [
       "FReaction([[453.09521073, 453.09521073],\n",
       "           [ 68.95711779,  68.95711779],\n",
       "           [172.11807973, 172.11807973],\n",
       "           [242.16219854, 242.16219854]])"
      ]
     },
     "execution_count": 90,
     "metadata": {},
     "output_type": "execute_result"
    }
   ],
   "source": [
    "(Disenho._ort_RT + Disenho._ort)[:, (1,2)]"
   ]
  },
  {
   "cell_type": "code",
   "execution_count": 84,
   "id": "a0089311-6f5c-4cea-bb04-c97d7d150295",
   "metadata": {},
   "outputs": [
    {
     "data": {
      "text/plain": [
       "FReaction([[25., 50.],\n",
       "           [30., 20.],\n",
       "           [60., 40.],\n",
       "           [20., 70.]])"
      ]
     },
     "execution_count": 84,
     "metadata": {},
     "output_type": "execute_result"
    }
   ],
   "source": [
    "(Disenho._ort)[:, (1,2)]"
   ]
  },
  {
   "cell_type": "code",
   "execution_count": 72,
   "id": "53b79540-154b-4f76-b1fe-1a127f19e60e",
   "metadata": {},
   "outputs": [
    {
     "ename": "ZeroDivisionError",
     "evalue": "division by zero",
     "output_type": "error",
     "traceback": [
      "\u001b[1;31m---------------------------------------------------------------------------\u001b[0m",
      "\u001b[1;31mZeroDivisionError\u001b[0m                         Traceback (most recent call last)",
      "Cell \u001b[1;32mIn[72], line 1\u001b[0m\n\u001b[1;32m----> 1\u001b[0m \u001b[38;5;241m0\u001b[39m\u001b[38;5;241m/\u001b[39m\u001b[38;5;241m0\u001b[39m\n",
      "\u001b[1;31mZeroDivisionError\u001b[0m: division by zero"
     ]
    }
   ],
   "source": [
    "0/0"
   ]
  },
  {
   "cell_type": "code",
   "execution_count": null,
   "id": "c17dedf6-949c-40b0-8ff1-4a1e6aaf7b69",
   "metadata": {},
   "outputs": [],
   "source": [
    "Disenho"
   ]
  }
 ],
 "metadata": {
  "kernelspec": {
   "display_name": "Python [conda env:base] *",
   "language": "python",
   "name": "conda-base-py"
  },
  "language_info": {
   "codemirror_mode": {
    "name": "ipython",
    "version": 3
   },
   "file_extension": ".py",
   "mimetype": "text/x-python",
   "name": "python",
   "nbconvert_exporter": "python",
   "pygments_lexer": "ipython3",
   "version": "3.12.7"
  }
 },
 "nbformat": 4,
 "nbformat_minor": 5
}
